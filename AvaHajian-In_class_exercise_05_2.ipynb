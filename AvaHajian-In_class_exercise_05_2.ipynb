{
  "cells": [
    {
      "cell_type": "markdown",
      "metadata": {
        "id": "maPg3a532Qv2"
      },
      "source": [
        "# **The fifth in-class-exercise (40 points in total, 04/12/2022)**"
      ]
    },
    {
      "cell_type": "markdown",
      "metadata": {
        "id": "4cAoWiWR2Qv4"
      },
      "source": [
        "(20 points) The purpose of the question is to practice different machine learning algorithms for text classification as well as the performance evaluation. In addition, you are requried to conduct *10 fold cross validation (https://scikit-learn.org/stable/modules/cross_validation.html)* in the training. \n",
        "\n",
        "The dataset can be download from here: https://github.com/unt-iialab/info5731-spring2022/blob/main/assignments/exercise05_datacollection.zip. The dataset contains two files train data and test data for sentiment analysis in IMDB review, it has two categories: 1 represents positive and 0 represents negative. You need to split the training data into training and validate data (80% for training and 20% for validation, https://towardsdatascience.com/train-test-split-and-cross-validation-in-python-80b61beca4b6) and perform 10 fold cross validation while training the classifier. The final trained model was final evaluated on the test data. \n",
        "\n",
        "Algorithms:\n",
        "\n",
        "(1) MultinominalNB\n",
        "\n",
        "(2) SVM \n",
        "\n",
        "(3) KNN \n",
        "\n",
        "(4) Decision tree\n",
        "\n",
        "(5) Random Forest\n",
        "\n",
        "(6) XGBoost\n",
        "\n",
        "Evaluation measurement:\n",
        "\n",
        "(1) Accuracy\n",
        "\n",
        "(2) Recall\n",
        "\n",
        "(3) Precison \n",
        "\n",
        "(4) F-1 score"
      ]
    },
    {
      "cell_type": "code",
      "execution_count": 6,
      "metadata": {
        "id": "nlBmyDOl2fif"
      },
      "outputs": [],
      "source": [
        "import numpy as np\n",
        "from sklearn.model_selection import train_test_split\n",
        "from sklearn import datasets\n",
        "from sklearn import svm"
      ]
    },
    {
      "cell_type": "code",
      "execution_count": 7,
      "metadata": {
        "id": "_i8uojul2UGv"
      },
      "outputs": [],
      "source": [
        "import pandas as pd\n",
        "import matplotlib.pyplot as plt\n",
        "import warnings\n",
        "warnings.filterwarnings(\"ignore\")\n",
        "from sklearn.metrics import precision_score, recall_score, f1_score, accuracy_score"
      ]
    },
    {
      "cell_type": "code",
      "execution_count": 8,
      "metadata": {
        "colab": {
          "base_uri": "https://localhost:8080/",
          "height": 206
        },
        "id": "HIHrfZgl2Qv5",
        "outputId": "abe7f431-3205-4bb5-8dc8-f05f55a8cfec"
      },
      "outputs": [
        {
          "output_type": "execute_result",
          "data": {
            "text/plain": [
              "  Number                                         ReviewText\n",
              "0      1   a stirring , funny and finally transporting r...\n",
              "1      0   apparently reassembled from the cutting-room ...\n",
              "2      0   they presume their audience wo n't sit still ...\n",
              "3      1   this is a visually stunning rumination on lov...\n",
              "4      1   jonathan parker 's bartleby should have been ..."
            ],
            "text/html": [
              "\n",
              "  <div id=\"df-d0b7fd66-07a6-4a0d-8792-8bc13a916154\">\n",
              "    <div class=\"colab-df-container\">\n",
              "      <div>\n",
              "<style scoped>\n",
              "    .dataframe tbody tr th:only-of-type {\n",
              "        vertical-align: middle;\n",
              "    }\n",
              "\n",
              "    .dataframe tbody tr th {\n",
              "        vertical-align: top;\n",
              "    }\n",
              "\n",
              "    .dataframe thead th {\n",
              "        text-align: right;\n",
              "    }\n",
              "</style>\n",
              "<table border=\"1\" class=\"dataframe\">\n",
              "  <thead>\n",
              "    <tr style=\"text-align: right;\">\n",
              "      <th></th>\n",
              "      <th>Number</th>\n",
              "      <th>ReviewText</th>\n",
              "    </tr>\n",
              "  </thead>\n",
              "  <tbody>\n",
              "    <tr>\n",
              "      <th>0</th>\n",
              "      <td>1</td>\n",
              "      <td>a stirring , funny and finally transporting r...</td>\n",
              "    </tr>\n",
              "    <tr>\n",
              "      <th>1</th>\n",
              "      <td>0</td>\n",
              "      <td>apparently reassembled from the cutting-room ...</td>\n",
              "    </tr>\n",
              "    <tr>\n",
              "      <th>2</th>\n",
              "      <td>0</td>\n",
              "      <td>they presume their audience wo n't sit still ...</td>\n",
              "    </tr>\n",
              "    <tr>\n",
              "      <th>3</th>\n",
              "      <td>1</td>\n",
              "      <td>this is a visually stunning rumination on lov...</td>\n",
              "    </tr>\n",
              "    <tr>\n",
              "      <th>4</th>\n",
              "      <td>1</td>\n",
              "      <td>jonathan parker 's bartleby should have been ...</td>\n",
              "    </tr>\n",
              "  </tbody>\n",
              "</table>\n",
              "</div>\n",
              "      <button class=\"colab-df-convert\" onclick=\"convertToInteractive('df-d0b7fd66-07a6-4a0d-8792-8bc13a916154')\"\n",
              "              title=\"Convert this dataframe to an interactive table.\"\n",
              "              style=\"display:none;\">\n",
              "        \n",
              "  <svg xmlns=\"http://www.w3.org/2000/svg\" height=\"24px\"viewBox=\"0 0 24 24\"\n",
              "       width=\"24px\">\n",
              "    <path d=\"M0 0h24v24H0V0z\" fill=\"none\"/>\n",
              "    <path d=\"M18.56 5.44l.94 2.06.94-2.06 2.06-.94-2.06-.94-.94-2.06-.94 2.06-2.06.94zm-11 1L8.5 8.5l.94-2.06 2.06-.94-2.06-.94L8.5 2.5l-.94 2.06-2.06.94zm10 10l.94 2.06.94-2.06 2.06-.94-2.06-.94-.94-2.06-.94 2.06-2.06.94z\"/><path d=\"M17.41 7.96l-1.37-1.37c-.4-.4-.92-.59-1.43-.59-.52 0-1.04.2-1.43.59L10.3 9.45l-7.72 7.72c-.78.78-.78 2.05 0 2.83L4 21.41c.39.39.9.59 1.41.59.51 0 1.02-.2 1.41-.59l7.78-7.78 2.81-2.81c.8-.78.8-2.07 0-2.86zM5.41 20L4 18.59l7.72-7.72 1.47 1.35L5.41 20z\"/>\n",
              "  </svg>\n",
              "      </button>\n",
              "      \n",
              "  <style>\n",
              "    .colab-df-container {\n",
              "      display:flex;\n",
              "      flex-wrap:wrap;\n",
              "      gap: 12px;\n",
              "    }\n",
              "\n",
              "    .colab-df-convert {\n",
              "      background-color: #E8F0FE;\n",
              "      border: none;\n",
              "      border-radius: 50%;\n",
              "      cursor: pointer;\n",
              "      display: none;\n",
              "      fill: #1967D2;\n",
              "      height: 32px;\n",
              "      padding: 0 0 0 0;\n",
              "      width: 32px;\n",
              "    }\n",
              "\n",
              "    .colab-df-convert:hover {\n",
              "      background-color: #E2EBFA;\n",
              "      box-shadow: 0px 1px 2px rgba(60, 64, 67, 0.3), 0px 1px 3px 1px rgba(60, 64, 67, 0.15);\n",
              "      fill: #174EA6;\n",
              "    }\n",
              "\n",
              "    [theme=dark] .colab-df-convert {\n",
              "      background-color: #3B4455;\n",
              "      fill: #D2E3FC;\n",
              "    }\n",
              "\n",
              "    [theme=dark] .colab-df-convert:hover {\n",
              "      background-color: #434B5C;\n",
              "      box-shadow: 0px 1px 3px 1px rgba(0, 0, 0, 0.15);\n",
              "      filter: drop-shadow(0px 1px 2px rgba(0, 0, 0, 0.3));\n",
              "      fill: #FFFFFF;\n",
              "    }\n",
              "  </style>\n",
              "\n",
              "      <script>\n",
              "        const buttonEl =\n",
              "          document.querySelector('#df-d0b7fd66-07a6-4a0d-8792-8bc13a916154 button.colab-df-convert');\n",
              "        buttonEl.style.display =\n",
              "          google.colab.kernel.accessAllowed ? 'block' : 'none';\n",
              "\n",
              "        async function convertToInteractive(key) {\n",
              "          const element = document.querySelector('#df-d0b7fd66-07a6-4a0d-8792-8bc13a916154');\n",
              "          const dataTable =\n",
              "            await google.colab.kernel.invokeFunction('convertToInteractive',\n",
              "                                                     [key], {});\n",
              "          if (!dataTable) return;\n",
              "\n",
              "          const docLinkHtml = 'Like what you see? Visit the ' +\n",
              "            '<a target=\"_blank\" href=https://colab.research.google.com/notebooks/data_table.ipynb>data table notebook</a>'\n",
              "            + ' to learn more about interactive tables.';\n",
              "          element.innerHTML = '';\n",
              "          dataTable['output_type'] = 'display_data';\n",
              "          await google.colab.output.renderOutput(dataTable, element);\n",
              "          const docLink = document.createElement('div');\n",
              "          docLink.innerHTML = docLinkHtml;\n",
              "          element.appendChild(docLink);\n",
              "        }\n",
              "      </script>\n",
              "    </div>\n",
              "  </div>\n",
              "  "
            ]
          },
          "metadata": {},
          "execution_count": 8
        }
      ],
      "source": [
        "# Write your code here\n",
        "#traning\n",
        "with open(\"stsa-train.txt\") as txtf:\n",
        "    mylist = [line.rstrip('\\n') for line in txtf]\n",
        "    \n",
        "Label = []\n",
        "Text = []\n",
        "\n",
        "for i, line in enumerate(mylist):\n",
        "    label = mylist[i][0]\n",
        "    tex = mylist[i][1:]\n",
        "    Label.append(label)\n",
        "    Text.append(tex)\n",
        "\n",
        "data01 = pd.DataFrame(list(zip(Label, Text)),columns =['Number', 'ReviewText'])\n",
        "data01.head()\n"
      ]
    },
    {
      "cell_type": "code",
      "execution_count": 9,
      "metadata": {
        "id": "mUh4faZVQNg8"
      },
      "outputs": [],
      "source": [
        "import nltk\n",
        "from nltk.tokenize import RegexpTokenizer\n",
        "from nltk.stem import WordNetLemmatizer,PorterStemmer\n",
        "from nltk.corpus import stopwords\n",
        "import re"
      ]
    },
    {
      "cell_type": "code",
      "execution_count": 10,
      "metadata": {
        "colab": {
          "base_uri": "https://localhost:8080/"
        },
        "id": "jb0p7DyGWS0b",
        "outputId": "da5ae284-9b57-48bb-af58-a6754fe163ef"
      },
      "outputs": [
        {
          "output_type": "stream",
          "name": "stdout",
          "text": [
            "[nltk_data] Downloading package stopwords to /root/nltk_data...\n",
            "[nltk_data]   Package stopwords is already up-to-date!\n",
            "[nltk_data] Downloading package wordnet to /root/nltk_data...\n",
            "[nltk_data]   Package wordnet is already up-to-date!\n"
          ]
        },
        {
          "output_type": "execute_result",
          "data": {
            "text/plain": [
              "True"
            ]
          },
          "metadata": {},
          "execution_count": 10
        }
      ],
      "source": [
        "import nltk\n",
        "nltk.download('stopwords')\n",
        "nltk.download('wordnet')"
      ]
    },
    {
      "cell_type": "code",
      "execution_count": 11,
      "metadata": {
        "colab": {
          "base_uri": "https://localhost:8080/",
          "height": 206
        },
        "id": "OY0w6zBT4RGf",
        "outputId": "78a82bb6-be53-4bdf-ffda-0284307d23b1"
      },
      "outputs": [
        {
          "output_type": "execute_result",
          "data": {
            "text/plain": [
              "  Number                                         ReviewText  \\\n",
              "0      1   a stirring , funny and finally transporting r...   \n",
              "1      0   apparently reassembled from the cutting-room ...   \n",
              "2      0   they presume their audience wo n't sit still ...   \n",
              "3      1   this is a visually stunning rumination on lov...   \n",
              "4      1   jonathan parker 's bartleby should have been ...   \n",
              "\n",
              "                                     ReviewTextClean  \n",
              "0  stirring funny finally transporting imagining ...  \n",
              "1  apparently reassembled cutting room floor give...  \n",
              "2  presume audience sit still sociology lesson ho...  \n",
              "3  visually stunning rumination love memory histo...  \n",
              "4  jonathan parker bartleby end modern office ano...  "
            ],
            "text/html": [
              "\n",
              "  <div id=\"df-9df74422-bbac-4a05-aa05-e9f1f7154c01\">\n",
              "    <div class=\"colab-df-container\">\n",
              "      <div>\n",
              "<style scoped>\n",
              "    .dataframe tbody tr th:only-of-type {\n",
              "        vertical-align: middle;\n",
              "    }\n",
              "\n",
              "    .dataframe tbody tr th {\n",
              "        vertical-align: top;\n",
              "    }\n",
              "\n",
              "    .dataframe thead th {\n",
              "        text-align: right;\n",
              "    }\n",
              "</style>\n",
              "<table border=\"1\" class=\"dataframe\">\n",
              "  <thead>\n",
              "    <tr style=\"text-align: right;\">\n",
              "      <th></th>\n",
              "      <th>Number</th>\n",
              "      <th>ReviewText</th>\n",
              "      <th>ReviewTextClean</th>\n",
              "    </tr>\n",
              "  </thead>\n",
              "  <tbody>\n",
              "    <tr>\n",
              "      <th>0</th>\n",
              "      <td>1</td>\n",
              "      <td>a stirring , funny and finally transporting r...</td>\n",
              "      <td>stirring funny finally transporting imagining ...</td>\n",
              "    </tr>\n",
              "    <tr>\n",
              "      <th>1</th>\n",
              "      <td>0</td>\n",
              "      <td>apparently reassembled from the cutting-room ...</td>\n",
              "      <td>apparently reassembled cutting room floor give...</td>\n",
              "    </tr>\n",
              "    <tr>\n",
              "      <th>2</th>\n",
              "      <td>0</td>\n",
              "      <td>they presume their audience wo n't sit still ...</td>\n",
              "      <td>presume audience sit still sociology lesson ho...</td>\n",
              "    </tr>\n",
              "    <tr>\n",
              "      <th>3</th>\n",
              "      <td>1</td>\n",
              "      <td>this is a visually stunning rumination on lov...</td>\n",
              "      <td>visually stunning rumination love memory histo...</td>\n",
              "    </tr>\n",
              "    <tr>\n",
              "      <th>4</th>\n",
              "      <td>1</td>\n",
              "      <td>jonathan parker 's bartleby should have been ...</td>\n",
              "      <td>jonathan parker bartleby end modern office ano...</td>\n",
              "    </tr>\n",
              "  </tbody>\n",
              "</table>\n",
              "</div>\n",
              "      <button class=\"colab-df-convert\" onclick=\"convertToInteractive('df-9df74422-bbac-4a05-aa05-e9f1f7154c01')\"\n",
              "              title=\"Convert this dataframe to an interactive table.\"\n",
              "              style=\"display:none;\">\n",
              "        \n",
              "  <svg xmlns=\"http://www.w3.org/2000/svg\" height=\"24px\"viewBox=\"0 0 24 24\"\n",
              "       width=\"24px\">\n",
              "    <path d=\"M0 0h24v24H0V0z\" fill=\"none\"/>\n",
              "    <path d=\"M18.56 5.44l.94 2.06.94-2.06 2.06-.94-2.06-.94-.94-2.06-.94 2.06-2.06.94zm-11 1L8.5 8.5l.94-2.06 2.06-.94-2.06-.94L8.5 2.5l-.94 2.06-2.06.94zm10 10l.94 2.06.94-2.06 2.06-.94-2.06-.94-.94-2.06-.94 2.06-2.06.94z\"/><path d=\"M17.41 7.96l-1.37-1.37c-.4-.4-.92-.59-1.43-.59-.52 0-1.04.2-1.43.59L10.3 9.45l-7.72 7.72c-.78.78-.78 2.05 0 2.83L4 21.41c.39.39.9.59 1.41.59.51 0 1.02-.2 1.41-.59l7.78-7.78 2.81-2.81c.8-.78.8-2.07 0-2.86zM5.41 20L4 18.59l7.72-7.72 1.47 1.35L5.41 20z\"/>\n",
              "  </svg>\n",
              "      </button>\n",
              "      \n",
              "  <style>\n",
              "    .colab-df-container {\n",
              "      display:flex;\n",
              "      flex-wrap:wrap;\n",
              "      gap: 12px;\n",
              "    }\n",
              "\n",
              "    .colab-df-convert {\n",
              "      background-color: #E8F0FE;\n",
              "      border: none;\n",
              "      border-radius: 50%;\n",
              "      cursor: pointer;\n",
              "      display: none;\n",
              "      fill: #1967D2;\n",
              "      height: 32px;\n",
              "      padding: 0 0 0 0;\n",
              "      width: 32px;\n",
              "    }\n",
              "\n",
              "    .colab-df-convert:hover {\n",
              "      background-color: #E2EBFA;\n",
              "      box-shadow: 0px 1px 2px rgba(60, 64, 67, 0.3), 0px 1px 3px 1px rgba(60, 64, 67, 0.15);\n",
              "      fill: #174EA6;\n",
              "    }\n",
              "\n",
              "    [theme=dark] .colab-df-convert {\n",
              "      background-color: #3B4455;\n",
              "      fill: #D2E3FC;\n",
              "    }\n",
              "\n",
              "    [theme=dark] .colab-df-convert:hover {\n",
              "      background-color: #434B5C;\n",
              "      box-shadow: 0px 1px 3px 1px rgba(0, 0, 0, 0.15);\n",
              "      filter: drop-shadow(0px 1px 2px rgba(0, 0, 0, 0.3));\n",
              "      fill: #FFFFFF;\n",
              "    }\n",
              "  </style>\n",
              "\n",
              "      <script>\n",
              "        const buttonEl =\n",
              "          document.querySelector('#df-9df74422-bbac-4a05-aa05-e9f1f7154c01 button.colab-df-convert');\n",
              "        buttonEl.style.display =\n",
              "          google.colab.kernel.accessAllowed ? 'block' : 'none';\n",
              "\n",
              "        async function convertToInteractive(key) {\n",
              "          const element = document.querySelector('#df-9df74422-bbac-4a05-aa05-e9f1f7154c01');\n",
              "          const dataTable =\n",
              "            await google.colab.kernel.invokeFunction('convertToInteractive',\n",
              "                                                     [key], {});\n",
              "          if (!dataTable) return;\n",
              "\n",
              "          const docLinkHtml = 'Like what you see? Visit the ' +\n",
              "            '<a target=\"_blank\" href=https://colab.research.google.com/notebooks/data_table.ipynb>data table notebook</a>'\n",
              "            + ' to learn more about interactive tables.';\n",
              "          element.innerHTML = '';\n",
              "          dataTable['output_type'] = 'display_data';\n",
              "          await google.colab.output.renderOutput(dataTable, element);\n",
              "          const docLink = document.createElement('div');\n",
              "          docLink.innerHTML = docLinkHtml;\n",
              "          element.appendChild(docLink);\n",
              "        }\n",
              "      </script>\n",
              "    </div>\n",
              "  </div>\n",
              "  "
            ]
          },
          "metadata": {},
          "execution_count": 11
        }
      ],
      "source": [
        "#Cleaning\n",
        "lemmatizer = WordNetLemmatizer()\n",
        "stemmer = PorterStemmer() \n",
        "\n",
        "def preprocess(sentence):\n",
        "    sentence=str(sentence)\n",
        "    sentence = sentence.lower()\n",
        "    sentence=sentence.replace('{html}',\"\") \n",
        "    cleanr = re.compile('<.*?>')\n",
        "    cleantext = re.sub(cleanr, '', sentence)\n",
        "    rem_url=re.sub(r'http\\S+', '',cleantext)\n",
        "    rem_num = re.sub('[0-9]+', '', rem_url)\n",
        "    tokenizer = RegexpTokenizer(r'\\w+')\n",
        "    tokens = tokenizer.tokenize(rem_num)  \n",
        "    filtered_words = [w for w in tokens if len(w) > 2 if not w in stopwords.words('english')]\n",
        "    stem_words=[stemmer.stem(w) for w in filtered_words]\n",
        "    lemma_words=[lemmatizer.lemmatize(w) for w in stem_words]\n",
        "    return \" \".join(filtered_words)\n",
        "\n",
        "\n",
        "data01['ReviewTextClean']=data01['ReviewText'].map(lambda s:preprocess(s)) \n",
        "data01.head()"
      ]
    },
    {
      "cell_type": "code",
      "execution_count": 12,
      "metadata": {
        "colab": {
          "base_uri": "https://localhost:8080/",
          "height": 206
        },
        "id": "Ysfw3K0qWoBF",
        "outputId": "5bd0a6cf-b4d4-4621-fd3a-a309031cd86a"
      },
      "outputs": [
        {
          "output_type": "execute_result",
          "data": {
            "text/plain": [
              "  Number                                         ReviewText\n",
              "0      0     no movement , no yuks , not much of anything .\n",
              "1      0   a gob of drivel so sickly sweet , even the ea...\n",
              "2      0   gangs of new york is an unapologetic mess , w...\n",
              "3      0   we never really feel involved with the story ...\n",
              "4      1            this is one of polanski 's best films ."
            ],
            "text/html": [
              "\n",
              "  <div id=\"df-1524c922-cfc2-4753-b2f6-271ae74ad997\">\n",
              "    <div class=\"colab-df-container\">\n",
              "      <div>\n",
              "<style scoped>\n",
              "    .dataframe tbody tr th:only-of-type {\n",
              "        vertical-align: middle;\n",
              "    }\n",
              "\n",
              "    .dataframe tbody tr th {\n",
              "        vertical-align: top;\n",
              "    }\n",
              "\n",
              "    .dataframe thead th {\n",
              "        text-align: right;\n",
              "    }\n",
              "</style>\n",
              "<table border=\"1\" class=\"dataframe\">\n",
              "  <thead>\n",
              "    <tr style=\"text-align: right;\">\n",
              "      <th></th>\n",
              "      <th>Number</th>\n",
              "      <th>ReviewText</th>\n",
              "    </tr>\n",
              "  </thead>\n",
              "  <tbody>\n",
              "    <tr>\n",
              "      <th>0</th>\n",
              "      <td>0</td>\n",
              "      <td>no movement , no yuks , not much of anything .</td>\n",
              "    </tr>\n",
              "    <tr>\n",
              "      <th>1</th>\n",
              "      <td>0</td>\n",
              "      <td>a gob of drivel so sickly sweet , even the ea...</td>\n",
              "    </tr>\n",
              "    <tr>\n",
              "      <th>2</th>\n",
              "      <td>0</td>\n",
              "      <td>gangs of new york is an unapologetic mess , w...</td>\n",
              "    </tr>\n",
              "    <tr>\n",
              "      <th>3</th>\n",
              "      <td>0</td>\n",
              "      <td>we never really feel involved with the story ...</td>\n",
              "    </tr>\n",
              "    <tr>\n",
              "      <th>4</th>\n",
              "      <td>1</td>\n",
              "      <td>this is one of polanski 's best films .</td>\n",
              "    </tr>\n",
              "  </tbody>\n",
              "</table>\n",
              "</div>\n",
              "      <button class=\"colab-df-convert\" onclick=\"convertToInteractive('df-1524c922-cfc2-4753-b2f6-271ae74ad997')\"\n",
              "              title=\"Convert this dataframe to an interactive table.\"\n",
              "              style=\"display:none;\">\n",
              "        \n",
              "  <svg xmlns=\"http://www.w3.org/2000/svg\" height=\"24px\"viewBox=\"0 0 24 24\"\n",
              "       width=\"24px\">\n",
              "    <path d=\"M0 0h24v24H0V0z\" fill=\"none\"/>\n",
              "    <path d=\"M18.56 5.44l.94 2.06.94-2.06 2.06-.94-2.06-.94-.94-2.06-.94 2.06-2.06.94zm-11 1L8.5 8.5l.94-2.06 2.06-.94-2.06-.94L8.5 2.5l-.94 2.06-2.06.94zm10 10l.94 2.06.94-2.06 2.06-.94-2.06-.94-.94-2.06-.94 2.06-2.06.94z\"/><path d=\"M17.41 7.96l-1.37-1.37c-.4-.4-.92-.59-1.43-.59-.52 0-1.04.2-1.43.59L10.3 9.45l-7.72 7.72c-.78.78-.78 2.05 0 2.83L4 21.41c.39.39.9.59 1.41.59.51 0 1.02-.2 1.41-.59l7.78-7.78 2.81-2.81c.8-.78.8-2.07 0-2.86zM5.41 20L4 18.59l7.72-7.72 1.47 1.35L5.41 20z\"/>\n",
              "  </svg>\n",
              "      </button>\n",
              "      \n",
              "  <style>\n",
              "    .colab-df-container {\n",
              "      display:flex;\n",
              "      flex-wrap:wrap;\n",
              "      gap: 12px;\n",
              "    }\n",
              "\n",
              "    .colab-df-convert {\n",
              "      background-color: #E8F0FE;\n",
              "      border: none;\n",
              "      border-radius: 50%;\n",
              "      cursor: pointer;\n",
              "      display: none;\n",
              "      fill: #1967D2;\n",
              "      height: 32px;\n",
              "      padding: 0 0 0 0;\n",
              "      width: 32px;\n",
              "    }\n",
              "\n",
              "    .colab-df-convert:hover {\n",
              "      background-color: #E2EBFA;\n",
              "      box-shadow: 0px 1px 2px rgba(60, 64, 67, 0.3), 0px 1px 3px 1px rgba(60, 64, 67, 0.15);\n",
              "      fill: #174EA6;\n",
              "    }\n",
              "\n",
              "    [theme=dark] .colab-df-convert {\n",
              "      background-color: #3B4455;\n",
              "      fill: #D2E3FC;\n",
              "    }\n",
              "\n",
              "    [theme=dark] .colab-df-convert:hover {\n",
              "      background-color: #434B5C;\n",
              "      box-shadow: 0px 1px 3px 1px rgba(0, 0, 0, 0.15);\n",
              "      filter: drop-shadow(0px 1px 2px rgba(0, 0, 0, 0.3));\n",
              "      fill: #FFFFFF;\n",
              "    }\n",
              "  </style>\n",
              "\n",
              "      <script>\n",
              "        const buttonEl =\n",
              "          document.querySelector('#df-1524c922-cfc2-4753-b2f6-271ae74ad997 button.colab-df-convert');\n",
              "        buttonEl.style.display =\n",
              "          google.colab.kernel.accessAllowed ? 'block' : 'none';\n",
              "\n",
              "        async function convertToInteractive(key) {\n",
              "          const element = document.querySelector('#df-1524c922-cfc2-4753-b2f6-271ae74ad997');\n",
              "          const dataTable =\n",
              "            await google.colab.kernel.invokeFunction('convertToInteractive',\n",
              "                                                     [key], {});\n",
              "          if (!dataTable) return;\n",
              "\n",
              "          const docLinkHtml = 'Like what you see? Visit the ' +\n",
              "            '<a target=\"_blank\" href=https://colab.research.google.com/notebooks/data_table.ipynb>data table notebook</a>'\n",
              "            + ' to learn more about interactive tables.';\n",
              "          element.innerHTML = '';\n",
              "          dataTable['output_type'] = 'display_data';\n",
              "          await google.colab.output.renderOutput(dataTable, element);\n",
              "          const docLink = document.createElement('div');\n",
              "          docLink.innerHTML = docLinkHtml;\n",
              "          element.appendChild(docLink);\n",
              "        }\n",
              "      </script>\n",
              "    </div>\n",
              "  </div>\n",
              "  "
            ]
          },
          "metadata": {},
          "execution_count": 12
        }
      ],
      "source": [
        "#Testing\n",
        "with open(\"stsa-test.txt\") as txtf:\n",
        "    mylist_test = [line.rstrip('\\n') for line in txtf]\n",
        "    \n",
        "labeltest = []\n",
        "texttest = []\n",
        "\n",
        "for i, line in enumerate(mylist_test):\n",
        "    label_test = mylist_test[i][0]\n",
        "    tex_test = mylist_test[i][1:]\n",
        "    labeltest.append(label_test)\n",
        "    texttest.append(tex_test)\n",
        "\n",
        "data02 = pd.DataFrame(list(zip(labeltest, texttest)),columns =['Number', 'ReviewText'])\n",
        "data02.head()"
      ]
    },
    {
      "cell_type": "code",
      "execution_count": 13,
      "metadata": {
        "colab": {
          "base_uri": "https://localhost:8080/",
          "height": 206
        },
        "id": "WPujLZCtY50O",
        "outputId": "3e2e9406-ae23-40a8-93ec-4b377331d260"
      },
      "outputs": [
        {
          "output_type": "execute_result",
          "data": {
            "text/plain": [
              "  Number                                         ReviewText  \\\n",
              "0      0     no movement , no yuks , not much of anything .   \n",
              "1      0   a gob of drivel so sickly sweet , even the ea...   \n",
              "2      0   gangs of new york is an unapologetic mess , w...   \n",
              "3      0   we never really feel involved with the story ...   \n",
              "4      1            this is one of polanski 's best films .   \n",
              "\n",
              "                                     ReviewTextClean  \n",
              "0                        movement yuks much anything  \n",
              "1  gob drivel sickly sweet even eager consumers m...  \n",
              "2  gangs new york unapologetic mess whose saving ...  \n",
              "3  never really feel involved story ideas remain ...  \n",
              "4                            one polanski best films  "
            ],
            "text/html": [
              "\n",
              "  <div id=\"df-1554f42c-2ea4-46ca-968c-d841e38d60a8\">\n",
              "    <div class=\"colab-df-container\">\n",
              "      <div>\n",
              "<style scoped>\n",
              "    .dataframe tbody tr th:only-of-type {\n",
              "        vertical-align: middle;\n",
              "    }\n",
              "\n",
              "    .dataframe tbody tr th {\n",
              "        vertical-align: top;\n",
              "    }\n",
              "\n",
              "    .dataframe thead th {\n",
              "        text-align: right;\n",
              "    }\n",
              "</style>\n",
              "<table border=\"1\" class=\"dataframe\">\n",
              "  <thead>\n",
              "    <tr style=\"text-align: right;\">\n",
              "      <th></th>\n",
              "      <th>Number</th>\n",
              "      <th>ReviewText</th>\n",
              "      <th>ReviewTextClean</th>\n",
              "    </tr>\n",
              "  </thead>\n",
              "  <tbody>\n",
              "    <tr>\n",
              "      <th>0</th>\n",
              "      <td>0</td>\n",
              "      <td>no movement , no yuks , not much of anything .</td>\n",
              "      <td>movement yuks much anything</td>\n",
              "    </tr>\n",
              "    <tr>\n",
              "      <th>1</th>\n",
              "      <td>0</td>\n",
              "      <td>a gob of drivel so sickly sweet , even the ea...</td>\n",
              "      <td>gob drivel sickly sweet even eager consumers m...</td>\n",
              "    </tr>\n",
              "    <tr>\n",
              "      <th>2</th>\n",
              "      <td>0</td>\n",
              "      <td>gangs of new york is an unapologetic mess , w...</td>\n",
              "      <td>gangs new york unapologetic mess whose saving ...</td>\n",
              "    </tr>\n",
              "    <tr>\n",
              "      <th>3</th>\n",
              "      <td>0</td>\n",
              "      <td>we never really feel involved with the story ...</td>\n",
              "      <td>never really feel involved story ideas remain ...</td>\n",
              "    </tr>\n",
              "    <tr>\n",
              "      <th>4</th>\n",
              "      <td>1</td>\n",
              "      <td>this is one of polanski 's best films .</td>\n",
              "      <td>one polanski best films</td>\n",
              "    </tr>\n",
              "  </tbody>\n",
              "</table>\n",
              "</div>\n",
              "      <button class=\"colab-df-convert\" onclick=\"convertToInteractive('df-1554f42c-2ea4-46ca-968c-d841e38d60a8')\"\n",
              "              title=\"Convert this dataframe to an interactive table.\"\n",
              "              style=\"display:none;\">\n",
              "        \n",
              "  <svg xmlns=\"http://www.w3.org/2000/svg\" height=\"24px\"viewBox=\"0 0 24 24\"\n",
              "       width=\"24px\">\n",
              "    <path d=\"M0 0h24v24H0V0z\" fill=\"none\"/>\n",
              "    <path d=\"M18.56 5.44l.94 2.06.94-2.06 2.06-.94-2.06-.94-.94-2.06-.94 2.06-2.06.94zm-11 1L8.5 8.5l.94-2.06 2.06-.94-2.06-.94L8.5 2.5l-.94 2.06-2.06.94zm10 10l.94 2.06.94-2.06 2.06-.94-2.06-.94-.94-2.06-.94 2.06-2.06.94z\"/><path d=\"M17.41 7.96l-1.37-1.37c-.4-.4-.92-.59-1.43-.59-.52 0-1.04.2-1.43.59L10.3 9.45l-7.72 7.72c-.78.78-.78 2.05 0 2.83L4 21.41c.39.39.9.59 1.41.59.51 0 1.02-.2 1.41-.59l7.78-7.78 2.81-2.81c.8-.78.8-2.07 0-2.86zM5.41 20L4 18.59l7.72-7.72 1.47 1.35L5.41 20z\"/>\n",
              "  </svg>\n",
              "      </button>\n",
              "      \n",
              "  <style>\n",
              "    .colab-df-container {\n",
              "      display:flex;\n",
              "      flex-wrap:wrap;\n",
              "      gap: 12px;\n",
              "    }\n",
              "\n",
              "    .colab-df-convert {\n",
              "      background-color: #E8F0FE;\n",
              "      border: none;\n",
              "      border-radius: 50%;\n",
              "      cursor: pointer;\n",
              "      display: none;\n",
              "      fill: #1967D2;\n",
              "      height: 32px;\n",
              "      padding: 0 0 0 0;\n",
              "      width: 32px;\n",
              "    }\n",
              "\n",
              "    .colab-df-convert:hover {\n",
              "      background-color: #E2EBFA;\n",
              "      box-shadow: 0px 1px 2px rgba(60, 64, 67, 0.3), 0px 1px 3px 1px rgba(60, 64, 67, 0.15);\n",
              "      fill: #174EA6;\n",
              "    }\n",
              "\n",
              "    [theme=dark] .colab-df-convert {\n",
              "      background-color: #3B4455;\n",
              "      fill: #D2E3FC;\n",
              "    }\n",
              "\n",
              "    [theme=dark] .colab-df-convert:hover {\n",
              "      background-color: #434B5C;\n",
              "      box-shadow: 0px 1px 3px 1px rgba(0, 0, 0, 0.15);\n",
              "      filter: drop-shadow(0px 1px 2px rgba(0, 0, 0, 0.3));\n",
              "      fill: #FFFFFF;\n",
              "    }\n",
              "  </style>\n",
              "\n",
              "      <script>\n",
              "        const buttonEl =\n",
              "          document.querySelector('#df-1554f42c-2ea4-46ca-968c-d841e38d60a8 button.colab-df-convert');\n",
              "        buttonEl.style.display =\n",
              "          google.colab.kernel.accessAllowed ? 'block' : 'none';\n",
              "\n",
              "        async function convertToInteractive(key) {\n",
              "          const element = document.querySelector('#df-1554f42c-2ea4-46ca-968c-d841e38d60a8');\n",
              "          const dataTable =\n",
              "            await google.colab.kernel.invokeFunction('convertToInteractive',\n",
              "                                                     [key], {});\n",
              "          if (!dataTable) return;\n",
              "\n",
              "          const docLinkHtml = 'Like what you see? Visit the ' +\n",
              "            '<a target=\"_blank\" href=https://colab.research.google.com/notebooks/data_table.ipynb>data table notebook</a>'\n",
              "            + ' to learn more about interactive tables.';\n",
              "          element.innerHTML = '';\n",
              "          dataTable['output_type'] = 'display_data';\n",
              "          await google.colab.output.renderOutput(dataTable, element);\n",
              "          const docLink = document.createElement('div');\n",
              "          docLink.innerHTML = docLinkHtml;\n",
              "          element.appendChild(docLink);\n",
              "        }\n",
              "      </script>\n",
              "    </div>\n",
              "  </div>\n",
              "  "
            ]
          },
          "metadata": {},
          "execution_count": 13
        }
      ],
      "source": [
        "#Cleaning\n",
        "\n",
        "def preprocess(sentence):\n",
        "    sentence=str(sentence)\n",
        "    sentence = sentence.lower()\n",
        "    sentence=sentence.replace('{html}',\"\")  \n",
        "    cleanr = re.compile('<.*?>')\n",
        "    cleantext = re.sub(cleanr, '', sentence)\n",
        "    rem_url=re.sub(r'http\\S+', '',cleantext)\n",
        "    rem_num = re.sub('[0-9]+', '', rem_url)\n",
        "    tokenizer = RegexpTokenizer(r'\\w+')\n",
        "    tokens = tokenizer.tokenize(rem_num)  \n",
        "    filtered_words = [w for w in tokens if len(w) > 2 if not w in stopwords.words('english')]\n",
        "    stem_words=[stemmer.stem(w) for w in filtered_words]\n",
        "    lemma_words=[lemmatizer.lemmatize(w) for w in stem_words]\n",
        "    return \" \".join(filtered_words)\n",
        "\n",
        "\n",
        "data02['ReviewTextClean']=data02['ReviewText'].map(lambda s:preprocess(s)) \n",
        "data02.head()"
      ]
    },
    {
      "cell_type": "code",
      "source": [
        "#TF-IDF\n",
        "\n",
        "from sklearn.feature_extraction.text import TfidfVectorizer "
      ],
      "metadata": {
        "id": "wXIFMONeyOz5"
      },
      "execution_count": 14,
      "outputs": []
    },
    {
      "cell_type": "code",
      "source": [
        "tfidfvectorizer = TfidfVectorizer(lowercase = False, analyzer='word')\n",
        "traintfidf = tfidfvectorizer.fit_transform(data01[\"ReviewTextClean\"]).toarray()\n",
        "testtfidf = tfidfvectorizer.transform(data02[\"ReviewTextClean\"]).toarray()\n",
        "\n",
        "xtest = testtfidf\n",
        "ytest = data02[\"Number\"]"
      ],
      "metadata": {
        "id": "mOeQIvmfycN1"
      },
      "execution_count": 15,
      "outputs": []
    },
    {
      "cell_type": "code",
      "source": [
        "from sklearn.model_selection import train_test_split"
      ],
      "metadata": {
        "id": "HS2eP3Lmy1ai"
      },
      "execution_count": 16,
      "outputs": []
    },
    {
      "cell_type": "code",
      "source": [
        "\n",
        "\n",
        "x_train, x_valid, y_train, y_valid = train_test_split(traintfidf,data01[\"Number\"],test_size = 0.2, random_state = 202)"
      ],
      "metadata": {
        "id": "UZU1neHXy0eW"
      },
      "execution_count": 17,
      "outputs": []
    },
    {
      "cell_type": "code",
      "source": [
        "#MultinominalNB\n",
        "\n",
        "from sklearn.naive_bayes import MultinomialNB\n"
      ],
      "metadata": {
        "id": "ziZt0Qify_BR"
      },
      "execution_count": 16,
      "outputs": []
    },
    {
      "cell_type": "code",
      "source": [
        "Class = MultinomialNB()\n",
        "Model01 = Class.fit(x_train, y_train) \n",
        "predictionsvalidationset = Class.predict(x_valid) \n",
        "\n",
        "\n",
        "from sklearn.metrics import precision_score, recall_score, f1_score, accuracy_score\n",
        "print (\"Accuracy of MultinomialNB validation set is : \", round(accuracy_score(y_valid, predictionsvalidationset)*100),\"%\")\n",
        "print (\"Percision of MultinomialNB validation set is : \", round(precision_score(y_valid, predictionsvalidationset, pos_label='0')*100),\"%\")\n",
        "print (\"Recall of MultinomialNB validation set is : \", round(recall_score(y_valid, predictionsvalidationset, pos_label='0')*100),\"%\")\n",
        "print (\"F1 Score of MultinomialNB validation set is : \", round(f1_score(y_valid, predictionsvalidationset, pos_label='0')*100),\"%\")"
      ],
      "metadata": {
        "colab": {
          "base_uri": "https://localhost:8080/"
        },
        "id": "ZqHUyzXWzEPY",
        "outputId": "a300e28e-2f30-4df7-8587-f86e25efb1a2"
      },
      "execution_count": 17,
      "outputs": [
        {
          "output_type": "stream",
          "name": "stdout",
          "text": [
            "Accuracy of MultinomialNB validation set is :  78 %\n",
            "Percision of MultinomialNB validation set is :  83 %\n",
            "Recall of MultinomialNB validation set is :  69 %\n",
            "F1 Score of MultinomialNB validation set is :  76 %\n"
          ]
        }
      ]
    },
    {
      "cell_type": "code",
      "source": [
        "from sklearn.metrics import classification_report"
      ],
      "metadata": {
        "id": "kZpucTmezyKy"
      },
      "execution_count": 18,
      "outputs": []
    },
    {
      "cell_type": "code",
      "source": [
        "\n",
        "\n",
        "naivevalidation = classification_report(y_valid, predictionsvalidationset)\n",
        "print(\"Classification: \", \"\\n\", \"\\n\",naivevalidation)"
      ],
      "metadata": {
        "colab": {
          "base_uri": "https://localhost:8080/"
        },
        "id": "ldaNNWtJzxCi",
        "outputId": "65772578-e574-4f51-b946-a1c8617f0f7e"
      },
      "execution_count": 19,
      "outputs": [
        {
          "output_type": "stream",
          "name": "stdout",
          "text": [
            "Classification:  \n",
            " \n",
            "               precision    recall  f1-score   support\n",
            "\n",
            "           0       0.83      0.69      0.76       667\n",
            "           1       0.75      0.87      0.81       717\n",
            "\n",
            "    accuracy                           0.78      1384\n",
            "   macro avg       0.79      0.78      0.78      1384\n",
            "weighted avg       0.79      0.78      0.78      1384\n",
            "\n"
          ]
        }
      ]
    },
    {
      "cell_type": "code",
      "source": [
        "from sklearn.model_selection import cross_val_score"
      ],
      "metadata": {
        "id": "ecS8u2bR3jly"
      },
      "execution_count": 20,
      "outputs": []
    },
    {
      "cell_type": "code",
      "source": [
        "\n",
        "accuraciesvalidation = cross_val_score(estimator = Class, X = x_train, y = y_train, cv = 10)\n",
        "\n",
        "print(f\"Naive Bayes Model 10-fold cross validation training set is :  {round(accuraciesvalidation.mean()*100)}%\")"
      ],
      "metadata": {
        "colab": {
          "base_uri": "https://localhost:8080/"
        },
        "id": "EXZP046X3iX5",
        "outputId": "83480187-8e34-4e72-8a43-39d2fd261c5d"
      },
      "execution_count": 21,
      "outputs": [
        {
          "output_type": "stream",
          "name": "stdout",
          "text": [
            "Naive Bayes Model 10-fold cross validation training set is :  77%\n"
          ]
        }
      ]
    },
    {
      "cell_type": "code",
      "source": [
        "predictionstestset = Class.predict(xtest) \n",
        "print (\"Accuracy is : \", round(accuracy_score(ytest, predictionstestset)*100),\"%\")\n",
        "print (\"Percision is : \", round(precision_score(ytest, predictionstestset, pos_label='0')*100),\"%\")\n",
        "print (\"Recall is : \", round(recall_score(ytest, predictionstestset, pos_label='0')*100),\"%\")\n",
        "print (\"F1 Score is : \", round(f1_score(ytest, predictionstestset, pos_label='0')*100),\"%\")"
      ],
      "metadata": {
        "colab": {
          "base_uri": "https://localhost:8080/"
        },
        "id": "psQAi2QZ3xDh",
        "outputId": "74f06d31-b71f-491c-bd54-499c84e9584c"
      },
      "execution_count": 22,
      "outputs": [
        {
          "output_type": "stream",
          "name": "stdout",
          "text": [
            "Accuracy is :  79 %\n",
            "Percision is :  86 %\n",
            "Recall is :  71 %\n",
            "F1 Score is :  78 %\n"
          ]
        }
      ]
    },
    {
      "cell_type": "code",
      "source": [
        "naivetest = classification_report(ytest, predictionstestset)\n",
        "print(\"Classification: \", \"\\n\", \"\\n\",naivetest)"
      ],
      "metadata": {
        "colab": {
          "base_uri": "https://localhost:8080/"
        },
        "id": "a7tuXevb4dB6",
        "outputId": "d447f47d-d951-4e64-db42-46c8ab89c81c"
      },
      "execution_count": 23,
      "outputs": [
        {
          "output_type": "stream",
          "name": "stdout",
          "text": [
            "Classification:  \n",
            " \n",
            "               precision    recall  f1-score   support\n",
            "\n",
            "           0       0.86      0.71      0.78       912\n",
            "           1       0.75      0.88      0.81       909\n",
            "\n",
            "    accuracy                           0.79      1821\n",
            "   macro avg       0.80      0.79      0.79      1821\n",
            "weighted avg       0.80      0.79      0.79      1821\n",
            "\n"
          ]
        }
      ]
    },
    {
      "cell_type": "code",
      "source": [
        "accuraciestest = cross_val_score(estimator = Class, X = xtest, y = ytest, cv = 10)\n",
        "\n",
        "print(f\"Naive Bayes Model 10-fold cross validation testing set is :  {round(accuraciestest.mean()*100)}%\")"
      ],
      "metadata": {
        "colab": {
          "base_uri": "https://localhost:8080/"
        },
        "id": "GpiAX6xk6zAB",
        "outputId": "0787e24b-01f9-4157-a2d0-3d2881d52f89"
      },
      "execution_count": 24,
      "outputs": [
        {
          "output_type": "stream",
          "name": "stdout",
          "text": [
            "Naive Bayes Model 10-fold cross validation testing set is :  73%\n"
          ]
        }
      ]
    },
    {
      "cell_type": "code",
      "source": [
        "#SVM\n",
        "\n",
        "\n",
        "from sklearn import svm"
      ],
      "metadata": {
        "id": "U3qPqBFt70SK"
      },
      "execution_count": 18,
      "outputs": []
    },
    {
      "cell_type": "code",
      "source": [
        "classsvm = svm.SVC()\n",
        "Modelsvm = classsvm.fit(x_train, y_train) \n",
        "svmpredictionsvalidationset = classsvm.predict(x_valid) \n",
        "\n",
        "print (\"Accuracy is : \", round(accuracy_score(y_valid, svmpredictionsvalidationset)*100),\"%\")\n",
        "print (\"Percision is : \", round(precision_score(y_valid, svmpredictionsvalidationset, pos_label='0')*100),\"%\")\n",
        "print (\"Recall is : \", round(recall_score(y_valid, svmpredictionsvalidationset, pos_label='0')*100),\"%\")\n",
        "print (\"F1 Score is : \", round(f1_score(y_valid, svmpredictionsvalidationset, pos_label='0')*100),\"%\")"
      ],
      "metadata": {
        "colab": {
          "base_uri": "https://localhost:8080/"
        },
        "id": "yhNCM_II8deq",
        "outputId": "40666318-3cc8-4df2-cb3c-79575c9f3fea"
      },
      "execution_count": 19,
      "outputs": [
        {
          "output_type": "stream",
          "name": "stdout",
          "text": [
            "Accuracy is :  79 %\n",
            "Percision is :  79 %\n",
            "Recall is :  76 %\n",
            "F1 Score is :  77 %\n"
          ]
        }
      ]
    },
    {
      "cell_type": "code",
      "source": [
        "from sklearn.metrics import classification_report\n",
        "\n",
        "svmvalidation = classification_report(y_valid, svmpredictionsvalidationset)\n",
        "print(\"Classification: \", \"\\n\", \"\\n\",svmvalidation)"
      ],
      "metadata": {
        "colab": {
          "base_uri": "https://localhost:8080/"
        },
        "id": "h5CZwIt-DmYU",
        "outputId": "82060d8f-85cc-4f0d-9f7c-86e712776aec"
      },
      "execution_count": 21,
      "outputs": [
        {
          "output_type": "stream",
          "name": "stdout",
          "text": [
            "Classification:  \n",
            " \n",
            "               precision    recall  f1-score   support\n",
            "\n",
            "           0       0.79      0.76      0.77       667\n",
            "           1       0.78      0.82      0.80       717\n",
            "\n",
            "    accuracy                           0.79      1384\n",
            "   macro avg       0.79      0.79      0.79      1384\n",
            "weighted avg       0.79      0.79      0.79      1384\n",
            "\n"
          ]
        }
      ]
    },
    {
      "cell_type": "code",
      "source": [
        "from sklearn.model_selection import cross_val_score"
      ],
      "metadata": {
        "id": "rFGdFTOqJCHT"
      },
      "execution_count": 22,
      "outputs": []
    },
    {
      "cell_type": "code",
      "source": [
        "\n",
        "svmaccuraciesvalidation = cross_val_score(estimator = classsvm, X = x_train, y = y_train, cv = 10)\n",
        "\n",
        "print(f\"SVM Model 10-fold cross validation training set is :  {round(svmaccuraciesvalidation.mean()*100)}%\")"
      ],
      "metadata": {
        "colab": {
          "base_uri": "https://localhost:8080/"
        },
        "id": "ohY4kYM9EGAT",
        "outputId": "dd806b2c-0968-4313-e809-d400db57facb"
      },
      "execution_count": 23,
      "outputs": [
        {
          "output_type": "stream",
          "name": "stdout",
          "text": [
            "SVM Model 10-fold cross validation training set is :  77%\n"
          ]
        }
      ]
    },
    {
      "cell_type": "code",
      "source": [
        "svmpredictionstestset = classsvm.predict(xtest) \n",
        "print (\"Accuracy SVM model is : \", round(accuracy_score(ytest, svmpredictionstestset)*100),\"%\")\n",
        "print (\"Percision SVM model is : \", round(precision_score(ytest, svmpredictionstestset, pos_label='0')*100),\"%\")\n",
        "print (\"Recall SVM model is : \", round(recall_score(ytest, svmpredictionstestset, pos_label='0')*100),\"%\")\n",
        "print (\"F1 Score SVM model is : \", round(f1_score(ytest, svmpredictionstestset, pos_label='0')*100),\"%\")"
      ],
      "metadata": {
        "colab": {
          "base_uri": "https://localhost:8080/"
        },
        "id": "V5yn_4d8E7gO",
        "outputId": "8f421d43-185a-41a3-82c1-1369a3888499"
      },
      "execution_count": 24,
      "outputs": [
        {
          "output_type": "stream",
          "name": "stdout",
          "text": [
            "Accuracy SVM model is :  79 %\n",
            "Percision SVM model is :  82 %\n",
            "Recall SVM model is :  75 %\n",
            "F1 Score SVM model is :  78 %\n"
          ]
        }
      ]
    },
    {
      "cell_type": "code",
      "source": [
        "svmtest = classification_report(ytest, svmpredictionstestset)\n",
        "print(\"Classification: \", \"\\n\", \"\\n\",svmtest)"
      ],
      "metadata": {
        "colab": {
          "base_uri": "https://localhost:8080/"
        },
        "id": "03bsALN0GFY9",
        "outputId": "b403d445-b17a-4d49-b72a-4238e847b8e1"
      },
      "execution_count": 25,
      "outputs": [
        {
          "output_type": "stream",
          "name": "stdout",
          "text": [
            "Classification:  \n",
            " \n",
            "               precision    recall  f1-score   support\n",
            "\n",
            "           0       0.82      0.75      0.78       912\n",
            "           1       0.77      0.84      0.80       909\n",
            "\n",
            "    accuracy                           0.79      1821\n",
            "   macro avg       0.80      0.79      0.79      1821\n",
            "weighted avg       0.80      0.79      0.79      1821\n",
            "\n"
          ]
        }
      ]
    },
    {
      "cell_type": "code",
      "source": [
        "svmaccuraciestest = cross_val_score(estimator = classsvm, X = xtest, y = ytest, cv = 10)\n",
        "\n",
        "print(f\"SVM Model 10-fold cross validation testing set is :  {round(svmaccuraciestest.mean()*100)}%\")"
      ],
      "metadata": {
        "colab": {
          "base_uri": "https://localhost:8080/"
        },
        "id": "RMfXysLRGSMj",
        "outputId": "76ebd40f-d7bb-4a77-ae40-bdcc1aff14e4"
      },
      "execution_count": 26,
      "outputs": [
        {
          "output_type": "stream",
          "name": "stdout",
          "text": [
            "SVM Model 10-fold cross validation testing set is :  72%\n"
          ]
        }
      ]
    },
    {
      "cell_type": "code",
      "source": [
        "#KNN\n",
        "from sklearn.neighbors import KNeighborsClassifier"
      ],
      "metadata": {
        "id": "YZa17_DpKIXu"
      },
      "execution_count": 34,
      "outputs": []
    },
    {
      "cell_type": "code",
      "source": [
        "\n",
        "\n",
        "classknn = KNeighborsClassifier(n_neighbors = 15)\n",
        "modelknn = classknn.fit(x_train, y_train) \n",
        "knnpredictionsvalidationset = classknn.predict(x_valid) \n",
        "\n",
        "print (\"Accuracy of KNN model is : \", round(accuracy_score(y_valid, knnpredictionsvalidationset)*100),\"%\")\n",
        "print (\"Percision of KNN model is : \", round(precision_score(y_valid, knnpredictionsvalidationset, pos_label='0')*100),\"%\")\n",
        "print (\"Recall of KNN model is : \", round(recall_score(y_valid, knnpredictionsvalidationset, pos_label='0')*100),\"%\")\n",
        "print (\"F1 Score of KNN model is : \", round(f1_score(y_valid, knnpredictionsvalidationset, pos_label='0')*100),\"%\")\n"
      ],
      "metadata": {
        "colab": {
          "base_uri": "https://localhost:8080/"
        },
        "id": "_kMlGy-mJ53l",
        "outputId": "c123dc58-f94c-4d49-e7af-3aa5a168fc07"
      },
      "execution_count": 35,
      "outputs": [
        {
          "output_type": "stream",
          "name": "stdout",
          "text": [
            "Accuracy of KNN model is :  74 %\n",
            "Percision of KNN model is :  71 %\n",
            "Recall of KNN model is :  78 %\n",
            "F1 Score of KNN model is :  75 %\n"
          ]
        }
      ]
    },
    {
      "cell_type": "code",
      "source": [
        "from sklearn.metrics import classification_report"
      ],
      "metadata": {
        "id": "WRy0nMA-STcf"
      },
      "execution_count": 36,
      "outputs": []
    },
    {
      "cell_type": "code",
      "source": [
        "\n",
        "\n",
        "knnvalidation = classification_report(y_valid, knnpredictionsvalidationset)\n",
        "print(\"Classification: \", \"\\n\", \"\\n\",knnvalidation)"
      ],
      "metadata": {
        "colab": {
          "base_uri": "https://localhost:8080/"
        },
        "id": "1Gmi_FjER-oV",
        "outputId": "b864b10a-c350-4753-eb4f-e0d9efbbdd9b"
      },
      "execution_count": 37,
      "outputs": [
        {
          "output_type": "stream",
          "name": "stdout",
          "text": [
            "Classification:  \n",
            " \n",
            "               precision    recall  f1-score   support\n",
            "\n",
            "           0       0.71      0.78      0.75       667\n",
            "           1       0.78      0.71      0.74       717\n",
            "\n",
            "    accuracy                           0.74      1384\n",
            "   macro avg       0.75      0.74      0.74      1384\n",
            "weighted avg       0.75      0.74      0.74      1384\n",
            "\n"
          ]
        }
      ]
    },
    {
      "cell_type": "code",
      "source": [
        "from sklearn.model_selection import cross_val_score"
      ],
      "metadata": {
        "id": "boHRszliSfr-"
      },
      "execution_count": 38,
      "outputs": []
    },
    {
      "cell_type": "code",
      "source": [
        "\n",
        "knnaccuraciesvalidation = cross_val_score(estimator = classknn, X = x_train, y = y_train, cv = 10)\n",
        "\n",
        "print(f\"KNN Model 10-fold cross validation training set is :  {round(knnaccuraciesvalidation.mean()*100)}%\")"
      ],
      "metadata": {
        "colab": {
          "base_uri": "https://localhost:8080/"
        },
        "id": "MBcRzj3bSeH2",
        "outputId": "1ee455ac-156d-402a-e710-f6c0e4d2addb"
      },
      "execution_count": 40,
      "outputs": [
        {
          "output_type": "stream",
          "name": "stdout",
          "text": [
            "KNN Model 10-fold cross validation training set is :  71%\n"
          ]
        }
      ]
    },
    {
      "cell_type": "code",
      "source": [
        "knnpredictionstest = classknn.predict(xtest) \n",
        "print (\"Accuracy of KNN model is : \", round(accuracy_score(ytest, knnpredictionstest)*100),\"%\")\n",
        "print (\"Percision of KNN model is : \", round(precision_score(ytest, knnpredictionstest, pos_label='0')*100),\"%\")\n",
        "print (\"Recall of KNN model is : \", round(recall_score(ytest, knnpredictionstest, pos_label='0')*100),\"%\")\n",
        "print (\"F1 Score of KNN model is : \", round(f1_score(ytest, knnpredictionstest, pos_label='0')*100),\"%\")"
      ],
      "metadata": {
        "colab": {
          "base_uri": "https://localhost:8080/"
        },
        "id": "cijge0UcTRd5",
        "outputId": "3c195f3f-9dcb-4f32-cb2a-848a92b5e3eb"
      },
      "execution_count": 41,
      "outputs": [
        {
          "output_type": "stream",
          "name": "stdout",
          "text": [
            "Accuracy of KNN model is :  73 %\n",
            "Percision of KNN model is :  71 %\n",
            "Recall of KNN model is :  77 %\n",
            "F1 Score of KNN model is :  74 %\n"
          ]
        }
      ]
    },
    {
      "cell_type": "code",
      "source": [
        "knntest = classification_report(ytest, knnpredictionstest)\n",
        "print(\"Classification: \", \"\\n\", \"\\n\",knntest)"
      ],
      "metadata": {
        "colab": {
          "base_uri": "https://localhost:8080/"
        },
        "id": "hyNM5jN2T5KW",
        "outputId": "b63b7048-78f4-41d0-c89b-4a24dcda9bf5"
      },
      "execution_count": 42,
      "outputs": [
        {
          "output_type": "stream",
          "name": "stdout",
          "text": [
            "Classification:  \n",
            " \n",
            "               precision    recall  f1-score   support\n",
            "\n",
            "           0       0.71      0.77      0.74       912\n",
            "           1       0.75      0.69      0.72       909\n",
            "\n",
            "    accuracy                           0.73      1821\n",
            "   macro avg       0.73      0.73      0.73      1821\n",
            "weighted avg       0.73      0.73      0.73      1821\n",
            "\n"
          ]
        }
      ]
    },
    {
      "cell_type": "code",
      "source": [
        "knnaccuraciestest = cross_val_score(estimator = classknn, X = xtest, y = ytest, cv = 10)\n",
        "\n",
        "print(f\"KNN Model 10-fold cross validation score on testing set is :  {round(knnaccuraciestest.mean()*100)}%\")"
      ],
      "metadata": {
        "colab": {
          "base_uri": "https://localhost:8080/"
        },
        "id": "kE2nuH4yUCjm",
        "outputId": "d46707f1-f0b3-4826-b27d-42153d340db8"
      },
      "execution_count": 43,
      "outputs": [
        {
          "output_type": "stream",
          "name": "stdout",
          "text": [
            "KNN Model 10-fold cross validation score on testing set is :  63%\n"
          ]
        }
      ]
    },
    {
      "cell_type": "code",
      "source": [
        "#Decison Tree\n",
        "\n",
        "from sklearn.tree import DecisionTreeClassifier"
      ],
      "metadata": {
        "id": "0BiOA_DsWjrX"
      },
      "execution_count": 44,
      "outputs": []
    },
    {
      "cell_type": "code",
      "source": [
        "\n",
        "\n",
        "classdet = DecisionTreeClassifier()\n",
        "Modeldet = classdet.fit(x_train, y_train) \n",
        "DecisionTreePredictionsValidationSet = classdet.predict(x_valid) \n",
        "\n",
        "print (\"Accuracy of the Decison Tree is : \", round(accuracy_score(y_valid, DecisionTreePredictionsValidationSet)*100),\"%\")\n",
        "print (\"Percision of the Decison Tree is : \", round(precision_score(y_valid, DecisionTreePredictionsValidationSet, pos_label='0')*100),\"%\")\n",
        "print (\"Recall of the Decison Tree is : \", round(recall_score(y_valid, DecisionTreePredictionsValidationSet, pos_label='0')*100),\"%\")\n",
        "print (\"F1 Score of the Decison Tree is : \", round(f1_score(y_valid, DecisionTreePredictionsValidationSet, pos_label='0')*100),\"%\")"
      ],
      "metadata": {
        "colab": {
          "base_uri": "https://localhost:8080/"
        },
        "id": "X4NC8K-4VHqV",
        "outputId": "eee2bae4-2a86-479f-d2af-6a487354f29a"
      },
      "execution_count": 45,
      "outputs": [
        {
          "output_type": "stream",
          "name": "stdout",
          "text": [
            "Accuracy of the Decison Tree is :  66 %\n",
            "Percision of the Decison Tree is :  63 %\n",
            "Recall of the Decison Tree is :  71 %\n",
            "F1 Score of the Decison Tree is :  67 %\n"
          ]
        }
      ]
    },
    {
      "cell_type": "code",
      "source": [
        "from sklearn.metrics import classification_report\n",
        "\n",
        "cr_dt_validation = classification_report(y_valid, DecisionTreePredictionsValidationSet)\n",
        "print(\"Classification Report: \", \"\\n\", \"\\n\",cr_dt_validation)"
      ],
      "metadata": {
        "colab": {
          "base_uri": "https://localhost:8080/"
        },
        "id": "_z-NRyVSa5PO",
        "outputId": "ff8d87b8-fb5e-4104-8de1-d944e111c828"
      },
      "execution_count": 46,
      "outputs": [
        {
          "output_type": "stream",
          "name": "stdout",
          "text": [
            "Classification Report:  \n",
            " \n",
            "               precision    recall  f1-score   support\n",
            "\n",
            "           0       0.63      0.71      0.67       667\n",
            "           1       0.69      0.61      0.65       717\n",
            "\n",
            "    accuracy                           0.66      1384\n",
            "   macro avg       0.66      0.66      0.66      1384\n",
            "weighted avg       0.66      0.66      0.66      1384\n",
            "\n"
          ]
        }
      ]
    },
    {
      "cell_type": "code",
      "source": [
        "from sklearn.model_selection import cross_val_score\n",
        "dtAccuraciesValidation = cross_val_score(estimator = classdet, X = x_train, y = y_train, cv = 10)\n",
        "\n",
        "print(f\"Decison Tree Classifier Model validation score is :  {round(dtAccuraciesValidation.mean()*100)}%\")"
      ],
      "metadata": {
        "colab": {
          "base_uri": "https://localhost:8080/"
        },
        "id": "J39r9hblbAck",
        "outputId": "f80d162b-f3c8-4dcf-cdbc-a89a32e82488"
      },
      "execution_count": 47,
      "outputs": [
        {
          "output_type": "stream",
          "name": "stdout",
          "text": [
            "Decison Tree Classifier Model validation score is :  65%\n"
          ]
        }
      ]
    },
    {
      "cell_type": "code",
      "source": [
        "dtPredictionsTestSet = classdet.predict(xtest) \n",
        "print (\"Accuracy of the Decison Tree Classifier is : \", round(accuracy_score(ytest, dtPredictionsTestSet)*100),\"%\")\n",
        "print (\"Percision of the Decison Tree Classifier is : \", round(precision_score(ytest, dtPredictionsTestSet, pos_label='0')*100),\"%\")\n",
        "print (\"Recall of the Decison Tree Classifier is :\", round(recall_score(ytest, dtPredictionsTestSet, pos_label='0')*100),\"%\")\n",
        "print (\"F1 Score of the Decison Tree Classifier is : \", round(f1_score(ytest, dtPredictionsTestSet, pos_label='0')*100),\"%\")"
      ],
      "metadata": {
        "colab": {
          "base_uri": "https://localhost:8080/"
        },
        "id": "DjIfC2jIbeg2",
        "outputId": "1ead4620-5b4a-4e63-a89f-c24912be38aa"
      },
      "execution_count": 49,
      "outputs": [
        {
          "output_type": "stream",
          "name": "stdout",
          "text": [
            "Accuracy of the Decison Tree Classifier is :  67 %\n",
            "Percision of the Decison Tree Classifier is :  66 %\n",
            "Recall of the Decison Tree Classifier is : 71 %\n",
            "F1 Score of the Decison Tree Classifier is :  68 %\n"
          ]
        }
      ]
    },
    {
      "cell_type": "code",
      "source": [
        "CrDeTest = classification_report(ytest, dtPredictionsTestSet)\n",
        "print(\"Classification: \", \"\\n\", \"\\n\",CrDeTest)"
      ],
      "metadata": {
        "colab": {
          "base_uri": "https://localhost:8080/"
        },
        "id": "NWcL44wlcAsm",
        "outputId": "adb4ba92-d9d0-4a2e-df6e-252adef3c6b8"
      },
      "execution_count": 51,
      "outputs": [
        {
          "output_type": "stream",
          "name": "stdout",
          "text": [
            "Classification:  \n",
            " \n",
            "               precision    recall  f1-score   support\n",
            "\n",
            "           0       0.66      0.71      0.68       912\n",
            "           1       0.68      0.63      0.65       909\n",
            "\n",
            "    accuracy                           0.67      1821\n",
            "   macro avg       0.67      0.67      0.67      1821\n",
            "weighted avg       0.67      0.67      0.67      1821\n",
            "\n"
          ]
        }
      ]
    },
    {
      "cell_type": "code",
      "source": [
        "DetAccuraciesTest = cross_val_score(estimator = classdet, X = xtest, y = ytest, cv = 10)\n",
        "\n",
        "print(f\"Decison Tree Classifier Model 10-fold cross validation testing set is :  {round(DetAccuraciesTest.mean()*100)}%\")"
      ],
      "metadata": {
        "colab": {
          "base_uri": "https://localhost:8080/"
        },
        "id": "XjtihR5NcHnG",
        "outputId": "605119aa-600c-421a-c206-43eeed68bf2b"
      },
      "execution_count": 52,
      "outputs": [
        {
          "output_type": "stream",
          "name": "stdout",
          "text": [
            "Decison Tree Classifier Model 10-fold cross validation testing set is :  62%\n"
          ]
        }
      ]
    },
    {
      "cell_type": "code",
      "source": [
        "#Randomforest\n",
        "\n",
        "from sklearn.ensemble import RandomForestClassifier"
      ],
      "metadata": {
        "id": "uPVbQWl9jWz5"
      },
      "execution_count": 53,
      "outputs": []
    },
    {
      "cell_type": "code",
      "source": [
        "\n",
        "\n",
        "ClassifierRaf = RandomForestClassifier()\n",
        "ModelRf = ClassifierRaf.fit(x_train, y_train) \n",
        "RafPredictionsValidationSet = ClassifierRaf.predict(x_valid) \n",
        "\n",
        "print (\"Accuracy of the Random Forest validation set is : \", round(accuracy_score(y_valid, RafPredictionsValidationSet)*100),\"%\")\n",
        "print (\"Percision of the Random Forest validation set is : \", round(precision_score(y_valid, RafPredictionsValidationSet, pos_label='0')*100),\"%\")\n",
        "print (\"Recall of the Random Forest validation set is : \", round(recall_score(y_valid, RafPredictionsValidationSet, pos_label='0')*100),\"%\")\n",
        "print (\"F1 Score of the Random Forest validation set is : \", round(f1_score(y_valid, RafPredictionsValidationSet, pos_label='0')*100),\"%\")"
      ],
      "metadata": {
        "colab": {
          "base_uri": "https://localhost:8080/"
        },
        "id": "i76R0A0cjLZA",
        "outputId": "6a716e8e-6cf3-4655-c6da-fd1ebbbac004"
      },
      "execution_count": 54,
      "outputs": [
        {
          "output_type": "stream",
          "name": "stdout",
          "text": [
            "Accuracy of the Random Forest validation set is :  72 %\n",
            "Percision of the Random Forest validation set is :  71 %\n",
            "Recall of the Random Forest validation set is :  73 %\n",
            "F1 Score of the Random Forest validation set is :  72 %\n"
          ]
        }
      ]
    },
    {
      "cell_type": "code",
      "source": [
        "\n",
        "\n",
        "CrRafValidation = classification_report(y_valid, RafPredictionsValidationSet)\n",
        "print(\"Classification: \", \"\\n\", \"\\n\",CrRafValidation)"
      ],
      "metadata": {
        "colab": {
          "base_uri": "https://localhost:8080/"
        },
        "id": "hMzGL1CCkhwG",
        "outputId": "bb76126b-dbdf-44eb-d008-155399c33b12"
      },
      "execution_count": 56,
      "outputs": [
        {
          "output_type": "stream",
          "name": "stdout",
          "text": [
            "Classification:  \n",
            " \n",
            "               precision    recall  f1-score   support\n",
            "\n",
            "           0       0.71      0.73      0.72       667\n",
            "           1       0.74      0.72      0.73       717\n",
            "\n",
            "    accuracy                           0.72      1384\n",
            "   macro avg       0.72      0.72      0.72      1384\n",
            "weighted avg       0.72      0.72      0.72      1384\n",
            "\n"
          ]
        }
      ]
    },
    {
      "cell_type": "code",
      "source": [
        "\n",
        "RfAccuraciesValidation = cross_val_score(estimator = ClassifierRaf, X = x_train, y = y_train, cv = 10)\n",
        "\n",
        "print(f\"Decison Random Forest Model 10-fold cross validation training set is :  {round(RfAccuraciesValidation.mean()*100)}%\")"
      ],
      "metadata": {
        "colab": {
          "base_uri": "https://localhost:8080/"
        },
        "id": "llQIOcpoky8J",
        "outputId": "1adcd4ff-3113-41d8-c43f-201b38fe630f"
      },
      "execution_count": 57,
      "outputs": [
        {
          "output_type": "stream",
          "name": "stdout",
          "text": [
            "Decison Random Forest Model 10-fold cross validation training set is :  72%\n"
          ]
        }
      ]
    },
    {
      "cell_type": "code",
      "source": [
        "RafPredictionsTestSet = ClassifierRaf.predict(xtest) \n",
        "print (\"Accuracy of the Random Forest is : \", round(accuracy_score(ytest, RafPredictionsTestSet)*100),\"%\")\n",
        "print (\"Percision of the Random Forest is : \", round(precision_score(ytest, RafPredictionsTestSet, pos_label='0')*100),\"%\")\n",
        "print (\"Recall of the Random Forest is : \", round(recall_score(ytest, RafPredictionsTestSet, pos_label='0')*100),\"%\")\n",
        "print (\"F1 Score of the Random Forest is : \", round(f1_score(ytest, RafPredictionsTestSet, pos_label='0')*100),\"%\")"
      ],
      "metadata": {
        "colab": {
          "base_uri": "https://localhost:8080/"
        },
        "id": "HmEqoFw1lJY2",
        "outputId": "85e29b7e-7415-4b49-c9ee-22b39085ef40"
      },
      "execution_count": 60,
      "outputs": [
        {
          "output_type": "stream",
          "name": "stdout",
          "text": [
            "Accuracy of the Random Forest is :  74 %\n",
            "Percision of the Random Forest is :  73 %\n",
            "Recall of the Random Forest is :  77 %\n",
            "F1 Score of the Random Forest is :  75 %\n"
          ]
        }
      ]
    },
    {
      "cell_type": "code",
      "source": [
        "CrRafTest = classification_report(ytest, RafPredictionsTestSet)\n",
        "print(\"Classification Report: \", \"\\n\", \"\\n\",CrRafTest)"
      ],
      "metadata": {
        "colab": {
          "base_uri": "https://localhost:8080/"
        },
        "id": "eeATXKj2ll_g",
        "outputId": "8eeb6bbd-e73c-4d26-8c70-8b3ea2f18b53"
      },
      "execution_count": 62,
      "outputs": [
        {
          "output_type": "stream",
          "name": "stdout",
          "text": [
            "Classification Report:  \n",
            " \n",
            "               precision    recall  f1-score   support\n",
            "\n",
            "           0       0.73      0.77      0.75       912\n",
            "           1       0.76      0.72      0.74       909\n",
            "\n",
            "    accuracy                           0.74      1821\n",
            "   macro avg       0.74      0.74      0.74      1821\n",
            "weighted avg       0.74      0.74      0.74      1821\n",
            "\n"
          ]
        }
      ]
    },
    {
      "cell_type": "code",
      "source": [
        "RafAccuraciesTest = cross_val_score(estimator = ClassifierRaf, X = xtest, y = ytest, cv = 10)\n",
        "\n",
        "print(f\"Random Forest Classifier Model 10-fold cross validation testing set is :  {round(RafAccuraciesTest.mean()*100)}%\")"
      ],
      "metadata": {
        "colab": {
          "base_uri": "https://localhost:8080/"
        },
        "id": "uKQXLKSJl2sc",
        "outputId": "c748416d-c81e-4f0f-b744-f89b96247c67"
      },
      "execution_count": 63,
      "outputs": [
        {
          "output_type": "stream",
          "name": "stdout",
          "text": [
            "Random Forest Classifier Model 10-fold cross validation testing set is :  65%\n"
          ]
        }
      ]
    },
    {
      "cell_type": "code",
      "source": [
        "#XGBoost\n",
        "\n",
        "from xgboost import XGBClassifier"
      ],
      "metadata": {
        "id": "ytq2rYokmo21"
      },
      "execution_count": 64,
      "outputs": []
    },
    {
      "cell_type": "code",
      "source": [
        "ClassXG = XGBClassifier()\n",
        "ModelXG = ClassXG.fit(x_train, y_train) \n",
        "XGPredictionsValidationSet = ClassXG.predict(x_valid) \n",
        "\n",
        "print (\"Accuracy of the XGBoost Classifieris : \", round(accuracy_score(y_valid, XGPredictionsValidationSet)*100),\"%\")\n",
        "print (\"Percision of the XGBoost Classifier is : \", round(precision_score(y_valid, XGPredictionsValidationSet, pos_label='0')*100),\"%\")\n",
        "print (\"Recall of the XGBoost Classifier is : \", round(recall_score(y_valid, XGPredictionsValidationSet , pos_label='0')*100),\"%\")\n",
        "print (\"F1 Score of the XGBoost Classifier is : \", round(f1_score(y_valid, XGPredictionsValidationSet, pos_label='0')*100),\"%\")"
      ],
      "metadata": {
        "colab": {
          "base_uri": "https://localhost:8080/"
        },
        "id": "_9AEMKgKmu10",
        "outputId": "f6fa58af-0bf7-4b9f-fa5f-506019d514b7"
      },
      "execution_count": 66,
      "outputs": [
        {
          "output_type": "stream",
          "name": "stdout",
          "text": [
            "Accuracy of the XGBoost Classifieris :  62 %\n",
            "Percision of the XGBoost Classifier is :  68 %\n",
            "Recall of the XGBoost Classifier is :  40 %\n",
            "F1 Score of the XGBoost Classifier is :  50 %\n"
          ]
        }
      ]
    },
    {
      "cell_type": "code",
      "source": [
        "CrXGValidation = classification_report(y_valid, XGPredictionsValidationSet)\n",
        "print(\"Classification: \", \"\\n\", \"\\n\",CrXGValidation)"
      ],
      "metadata": {
        "colab": {
          "base_uri": "https://localhost:8080/"
        },
        "id": "A3YQPvP1nTjF",
        "outputId": "223c4012-1b65-4e7a-9eda-48495a3c2bec"
      },
      "execution_count": 67,
      "outputs": [
        {
          "output_type": "stream",
          "name": "stdout",
          "text": [
            "Classification:  \n",
            " \n",
            "               precision    recall  f1-score   support\n",
            "\n",
            "           0       0.68      0.40      0.50       667\n",
            "           1       0.60      0.83      0.69       717\n",
            "\n",
            "    accuracy                           0.62      1384\n",
            "   macro avg       0.64      0.61      0.60      1384\n",
            "weighted avg       0.64      0.62      0.60      1384\n",
            "\n"
          ]
        }
      ]
    },
    {
      "cell_type": "code",
      "source": [
        "XGAccuraciesValidation = cross_val_score(estimator = ClassXG, X = x_train, y = y_train, cv = 10)\n",
        "\n",
        "print(f\"XGBoost Model 10-fold cross validation training set is :  {round(XGAccuraciesValidation.mean()*100)}%\")"
      ],
      "metadata": {
        "colab": {
          "base_uri": "https://localhost:8080/"
        },
        "id": "UoKFxxSlnjBV",
        "outputId": "b19b6142-fc3e-4b14-d251-b310c77eda4d"
      },
      "execution_count": 68,
      "outputs": [
        {
          "output_type": "stream",
          "name": "stdout",
          "text": [
            "XGBoost Model 10-fold cross validation training set is :  63%\n"
          ]
        }
      ]
    },
    {
      "cell_type": "code",
      "source": [
        "XGPredictionsTest = ClassXG.predict(xtest) \n",
        "print (\"Accuracy of the XGBoost Classifier is : \", round(accuracy_score(ytest, XGPredictionsTest)*100),\"%\")\n",
        "print (\"Percision of the XGBoost Classifier is : \", round(precision_score(ytest, XGPredictionsTest, pos_label='0')*100),\"%\")\n",
        "print (\"Recall of the XGBoost Classifier is : \", round(recall_score(ytest, XGPredictionsTest, pos_label='0')*100),\"%\")\n",
        "print (\"F1 Score of the XGBoost Classifier is : \", round(f1_score(ytest, XGPredictionsTest, pos_label='0')*100),\"%\")"
      ],
      "metadata": {
        "colab": {
          "base_uri": "https://localhost:8080/"
        },
        "id": "K-Ba3kTUn2Ee",
        "outputId": "2de7c5f6-be2f-4b28-ae6a-49c1485edc02"
      },
      "execution_count": 69,
      "outputs": [
        {
          "output_type": "stream",
          "name": "stdout",
          "text": [
            "Accuracy of the XGBoost Classifier is :  64 %\n",
            "Percision of the XGBoost Classifier is :  74 %\n",
            "Recall of the XGBoost Classifier is :  45 %\n",
            "F1 Score of the XGBoost Classifier is :  56 %\n"
          ]
        }
      ]
    },
    {
      "cell_type": "code",
      "source": [
        "CrXGTest = classification_report(ytest, XGPredictionsTest)\n",
        "print(\"Classification: \", \"\\n\", \"\\n\",CrXGTest)"
      ],
      "metadata": {
        "colab": {
          "base_uri": "https://localhost:8080/"
        },
        "id": "Zqf5Y3TYoOZG",
        "outputId": "4d829695-e9c2-4d20-cb89-6be974ffa495"
      },
      "execution_count": 70,
      "outputs": [
        {
          "output_type": "stream",
          "name": "stdout",
          "text": [
            "Classification:  \n",
            " \n",
            "               precision    recall  f1-score   support\n",
            "\n",
            "           0       0.74      0.45      0.56       912\n",
            "           1       0.60      0.84      0.70       909\n",
            "\n",
            "    accuracy                           0.64      1821\n",
            "   macro avg       0.67      0.64      0.63      1821\n",
            "weighted avg       0.67      0.64      0.63      1821\n",
            "\n"
          ]
        }
      ]
    },
    {
      "cell_type": "code",
      "source": [
        "XGAccuraciesTest = cross_val_score(estimator = ClassXG, X = xtest, y = ytest, cv = 10)\n",
        "\n",
        "print(f\"XGBoost Classifier Model 10-fold cross validation testing set is :  {round(XGAccuraciesTest.mean()*100)}%\")"
      ],
      "metadata": {
        "colab": {
          "base_uri": "https://localhost:8080/"
        },
        "id": "wZN_YgPboavs",
        "outputId": "63667456-2b8e-4564-b53e-ae559d558792"
      },
      "execution_count": 71,
      "outputs": [
        {
          "output_type": "stream",
          "name": "stdout",
          "text": [
            "XGBoost Classifier Model 10-fold cross validation testing set is :  62%\n"
          ]
        }
      ]
    },
    {
      "cell_type": "markdown",
      "metadata": {
        "id": "nIoSoJs42Qv6"
      },
      "source": [
        "(20 points) The purpose of the question is to practice different machine learning algorithms for text clustering\n",
        "Please downlad the dataset by using the following link.  https://www.kaggle.com/PromptCloudHQ/amazon-reviews-unlocked-mobile-phones\n",
        "(You can also use different text data which you want)\n",
        "\n",
        "Apply the listed clustering methods to the dataset:\n",
        "\n",
        "K means, \n",
        "DBSCAN,\n",
        "Hierarchical clustering. \n",
        "\n",
        "You can refer to of the codes from  the follwing link below. \n",
        "https://www.kaggle.com/karthik3890/text-clustering "
      ]
    },
    {
      "cell_type": "code",
      "source": [
        "#Write your code here.\n",
        "\n",
        "Data = pd.read_csv('/content/Amazon_Unlocked_Mobile - Copy.csv')\n",
        "\n",
        "Data"
      ],
      "metadata": {
        "colab": {
          "base_uri": "https://localhost:8080/",
          "height": 424
        },
        "id": "gHy8LIhfP1iF",
        "outputId": "cdb82fc9-11b2-46b1-ebc3-38297055b172"
      },
      "execution_count": 27,
      "outputs": [
        {
          "output_type": "execute_result",
          "data": {
            "text/plain": [
              "                                            Product Name Brand Name   Price  \\\n",
              "0      \"CLEAR CLEAN ESN\" Sprint EPIC 4G Galaxy SPH-D7...    Samsung  199.99   \n",
              "1      \"CLEAR CLEAN ESN\" Sprint EPIC 4G Galaxy SPH-D7...    Samsung  199.99   \n",
              "2      \"CLEAR CLEAN ESN\" Sprint EPIC 4G Galaxy SPH-D7...    Samsung  199.99   \n",
              "3      \"CLEAR CLEAN ESN\" Sprint EPIC 4G Galaxy SPH-D7...    Samsung  199.99   \n",
              "4      \"CLEAR CLEAN ESN\" Sprint EPIC 4G Galaxy SPH-D7...    Samsung  199.99   \n",
              "...                                                  ...        ...     ...   \n",
              "13287  Apple iPhone 4S 16GB Unlocked GSM - White (Cer...      Apple  129.99   \n",
              "13288  Apple iPhone 4S 16GB Unlocked GSM - White (Cer...      Apple  129.99   \n",
              "13289  Apple iPhone 4S 16GB Unlocked GSM - White (Cer...      Apple  129.99   \n",
              "13290  Apple iPhone 4S 16GB Unlocked GSM - White (Cer...      Apple  129.99   \n",
              "13291  Apple iPhone 4S 16GB Unlocked GSM - White (Cer...      Apple  129.99   \n",
              "\n",
              "       Rating                                            Reviews  Review Votes  \n",
              "0           5  I feel so LUCKY to have found this used (phone...           1.0  \n",
              "1           4  nice phone, nice up grade from my pantach revu...           0.0  \n",
              "2           5                                       Very pleased           0.0  \n",
              "3           4  It works good but it goes slow sometimes but i...           0.0  \n",
              "4           4  Great phone to replace my lost phone. The only...           0.0  \n",
              "...       ...                                                ...           ...  \n",
              "13287       1  Do not buy this phone. it is used, no head pho...           0.0  \n",
              "13288       1                                         Bad batery           0.0  \n",
              "13289       3  The phone works ..not sure if its unlocked to ...           0.0  \n",
              "13290       5  Delivered as promised, excellent condition, wo...           0.0  \n",
              "13291       5             the phone works great and it looks new           2.0  \n",
              "\n",
              "[13292 rows x 6 columns]"
            ],
            "text/html": [
              "\n",
              "  <div id=\"df-cfb2af15-e948-4fea-82bb-acf4329df8e3\">\n",
              "    <div class=\"colab-df-container\">\n",
              "      <div>\n",
              "<style scoped>\n",
              "    .dataframe tbody tr th:only-of-type {\n",
              "        vertical-align: middle;\n",
              "    }\n",
              "\n",
              "    .dataframe tbody tr th {\n",
              "        vertical-align: top;\n",
              "    }\n",
              "\n",
              "    .dataframe thead th {\n",
              "        text-align: right;\n",
              "    }\n",
              "</style>\n",
              "<table border=\"1\" class=\"dataframe\">\n",
              "  <thead>\n",
              "    <tr style=\"text-align: right;\">\n",
              "      <th></th>\n",
              "      <th>Product Name</th>\n",
              "      <th>Brand Name</th>\n",
              "      <th>Price</th>\n",
              "      <th>Rating</th>\n",
              "      <th>Reviews</th>\n",
              "      <th>Review Votes</th>\n",
              "    </tr>\n",
              "  </thead>\n",
              "  <tbody>\n",
              "    <tr>\n",
              "      <th>0</th>\n",
              "      <td>\"CLEAR CLEAN ESN\" Sprint EPIC 4G Galaxy SPH-D7...</td>\n",
              "      <td>Samsung</td>\n",
              "      <td>199.99</td>\n",
              "      <td>5</td>\n",
              "      <td>I feel so LUCKY to have found this used (phone...</td>\n",
              "      <td>1.0</td>\n",
              "    </tr>\n",
              "    <tr>\n",
              "      <th>1</th>\n",
              "      <td>\"CLEAR CLEAN ESN\" Sprint EPIC 4G Galaxy SPH-D7...</td>\n",
              "      <td>Samsung</td>\n",
              "      <td>199.99</td>\n",
              "      <td>4</td>\n",
              "      <td>nice phone, nice up grade from my pantach revu...</td>\n",
              "      <td>0.0</td>\n",
              "    </tr>\n",
              "    <tr>\n",
              "      <th>2</th>\n",
              "      <td>\"CLEAR CLEAN ESN\" Sprint EPIC 4G Galaxy SPH-D7...</td>\n",
              "      <td>Samsung</td>\n",
              "      <td>199.99</td>\n",
              "      <td>5</td>\n",
              "      <td>Very pleased</td>\n",
              "      <td>0.0</td>\n",
              "    </tr>\n",
              "    <tr>\n",
              "      <th>3</th>\n",
              "      <td>\"CLEAR CLEAN ESN\" Sprint EPIC 4G Galaxy SPH-D7...</td>\n",
              "      <td>Samsung</td>\n",
              "      <td>199.99</td>\n",
              "      <td>4</td>\n",
              "      <td>It works good but it goes slow sometimes but i...</td>\n",
              "      <td>0.0</td>\n",
              "    </tr>\n",
              "    <tr>\n",
              "      <th>4</th>\n",
              "      <td>\"CLEAR CLEAN ESN\" Sprint EPIC 4G Galaxy SPH-D7...</td>\n",
              "      <td>Samsung</td>\n",
              "      <td>199.99</td>\n",
              "      <td>4</td>\n",
              "      <td>Great phone to replace my lost phone. The only...</td>\n",
              "      <td>0.0</td>\n",
              "    </tr>\n",
              "    <tr>\n",
              "      <th>...</th>\n",
              "      <td>...</td>\n",
              "      <td>...</td>\n",
              "      <td>...</td>\n",
              "      <td>...</td>\n",
              "      <td>...</td>\n",
              "      <td>...</td>\n",
              "    </tr>\n",
              "    <tr>\n",
              "      <th>13287</th>\n",
              "      <td>Apple iPhone 4S 16GB Unlocked GSM - White (Cer...</td>\n",
              "      <td>Apple</td>\n",
              "      <td>129.99</td>\n",
              "      <td>1</td>\n",
              "      <td>Do not buy this phone. it is used, no head pho...</td>\n",
              "      <td>0.0</td>\n",
              "    </tr>\n",
              "    <tr>\n",
              "      <th>13288</th>\n",
              "      <td>Apple iPhone 4S 16GB Unlocked GSM - White (Cer...</td>\n",
              "      <td>Apple</td>\n",
              "      <td>129.99</td>\n",
              "      <td>1</td>\n",
              "      <td>Bad batery</td>\n",
              "      <td>0.0</td>\n",
              "    </tr>\n",
              "    <tr>\n",
              "      <th>13289</th>\n",
              "      <td>Apple iPhone 4S 16GB Unlocked GSM - White (Cer...</td>\n",
              "      <td>Apple</td>\n",
              "      <td>129.99</td>\n",
              "      <td>3</td>\n",
              "      <td>The phone works ..not sure if its unlocked to ...</td>\n",
              "      <td>0.0</td>\n",
              "    </tr>\n",
              "    <tr>\n",
              "      <th>13290</th>\n",
              "      <td>Apple iPhone 4S 16GB Unlocked GSM - White (Cer...</td>\n",
              "      <td>Apple</td>\n",
              "      <td>129.99</td>\n",
              "      <td>5</td>\n",
              "      <td>Delivered as promised, excellent condition, wo...</td>\n",
              "      <td>0.0</td>\n",
              "    </tr>\n",
              "    <tr>\n",
              "      <th>13291</th>\n",
              "      <td>Apple iPhone 4S 16GB Unlocked GSM - White (Cer...</td>\n",
              "      <td>Apple</td>\n",
              "      <td>129.99</td>\n",
              "      <td>5</td>\n",
              "      <td>the phone works great and it looks new</td>\n",
              "      <td>2.0</td>\n",
              "    </tr>\n",
              "  </tbody>\n",
              "</table>\n",
              "<p>13292 rows × 6 columns</p>\n",
              "</div>\n",
              "      <button class=\"colab-df-convert\" onclick=\"convertToInteractive('df-cfb2af15-e948-4fea-82bb-acf4329df8e3')\"\n",
              "              title=\"Convert this dataframe to an interactive table.\"\n",
              "              style=\"display:none;\">\n",
              "        \n",
              "  <svg xmlns=\"http://www.w3.org/2000/svg\" height=\"24px\"viewBox=\"0 0 24 24\"\n",
              "       width=\"24px\">\n",
              "    <path d=\"M0 0h24v24H0V0z\" fill=\"none\"/>\n",
              "    <path d=\"M18.56 5.44l.94 2.06.94-2.06 2.06-.94-2.06-.94-.94-2.06-.94 2.06-2.06.94zm-11 1L8.5 8.5l.94-2.06 2.06-.94-2.06-.94L8.5 2.5l-.94 2.06-2.06.94zm10 10l.94 2.06.94-2.06 2.06-.94-2.06-.94-.94-2.06-.94 2.06-2.06.94z\"/><path d=\"M17.41 7.96l-1.37-1.37c-.4-.4-.92-.59-1.43-.59-.52 0-1.04.2-1.43.59L10.3 9.45l-7.72 7.72c-.78.78-.78 2.05 0 2.83L4 21.41c.39.39.9.59 1.41.59.51 0 1.02-.2 1.41-.59l7.78-7.78 2.81-2.81c.8-.78.8-2.07 0-2.86zM5.41 20L4 18.59l7.72-7.72 1.47 1.35L5.41 20z\"/>\n",
              "  </svg>\n",
              "      </button>\n",
              "      \n",
              "  <style>\n",
              "    .colab-df-container {\n",
              "      display:flex;\n",
              "      flex-wrap:wrap;\n",
              "      gap: 12px;\n",
              "    }\n",
              "\n",
              "    .colab-df-convert {\n",
              "      background-color: #E8F0FE;\n",
              "      border: none;\n",
              "      border-radius: 50%;\n",
              "      cursor: pointer;\n",
              "      display: none;\n",
              "      fill: #1967D2;\n",
              "      height: 32px;\n",
              "      padding: 0 0 0 0;\n",
              "      width: 32px;\n",
              "    }\n",
              "\n",
              "    .colab-df-convert:hover {\n",
              "      background-color: #E2EBFA;\n",
              "      box-shadow: 0px 1px 2px rgba(60, 64, 67, 0.3), 0px 1px 3px 1px rgba(60, 64, 67, 0.15);\n",
              "      fill: #174EA6;\n",
              "    }\n",
              "\n",
              "    [theme=dark] .colab-df-convert {\n",
              "      background-color: #3B4455;\n",
              "      fill: #D2E3FC;\n",
              "    }\n",
              "\n",
              "    [theme=dark] .colab-df-convert:hover {\n",
              "      background-color: #434B5C;\n",
              "      box-shadow: 0px 1px 3px 1px rgba(0, 0, 0, 0.15);\n",
              "      filter: drop-shadow(0px 1px 2px rgba(0, 0, 0, 0.3));\n",
              "      fill: #FFFFFF;\n",
              "    }\n",
              "  </style>\n",
              "\n",
              "      <script>\n",
              "        const buttonEl =\n",
              "          document.querySelector('#df-cfb2af15-e948-4fea-82bb-acf4329df8e3 button.colab-df-convert');\n",
              "        buttonEl.style.display =\n",
              "          google.colab.kernel.accessAllowed ? 'block' : 'none';\n",
              "\n",
              "        async function convertToInteractive(key) {\n",
              "          const element = document.querySelector('#df-cfb2af15-e948-4fea-82bb-acf4329df8e3');\n",
              "          const dataTable =\n",
              "            await google.colab.kernel.invokeFunction('convertToInteractive',\n",
              "                                                     [key], {});\n",
              "          if (!dataTable) return;\n",
              "\n",
              "          const docLinkHtml = 'Like what you see? Visit the ' +\n",
              "            '<a target=\"_blank\" href=https://colab.research.google.com/notebooks/data_table.ipynb>data table notebook</a>'\n",
              "            + ' to learn more about interactive tables.';\n",
              "          element.innerHTML = '';\n",
              "          dataTable['output_type'] = 'display_data';\n",
              "          await google.colab.output.renderOutput(dataTable, element);\n",
              "          const docLink = document.createElement('div');\n",
              "          docLink.innerHTML = docLinkHtml;\n",
              "          element.appendChild(docLink);\n",
              "        }\n",
              "      </script>\n",
              "    </div>\n",
              "  </div>\n",
              "  "
            ]
          },
          "metadata": {},
          "execution_count": 27
        }
      ]
    },
    {
      "cell_type": "code",
      "source": [
        "Data['Reviews']=Data['Reviews'].map(lambda s:preprocess(s)) \n",
        "Data.head()"
      ],
      "metadata": {
        "colab": {
          "base_uri": "https://localhost:8080/",
          "height": 206
        },
        "id": "T0CehG8sP_i0",
        "outputId": "b4880116-c9b9-4a8e-9e88-d8a8b170e966"
      },
      "execution_count": 28,
      "outputs": [
        {
          "output_type": "execute_result",
          "data": {
            "text/plain": [
              "                                        Product Name Brand Name   Price  \\\n",
              "0  \"CLEAR CLEAN ESN\" Sprint EPIC 4G Galaxy SPH-D7...    Samsung  199.99   \n",
              "1  \"CLEAR CLEAN ESN\" Sprint EPIC 4G Galaxy SPH-D7...    Samsung  199.99   \n",
              "2  \"CLEAR CLEAN ESN\" Sprint EPIC 4G Galaxy SPH-D7...    Samsung  199.99   \n",
              "3  \"CLEAR CLEAN ESN\" Sprint EPIC 4G Galaxy SPH-D7...    Samsung  199.99   \n",
              "4  \"CLEAR CLEAN ESN\" Sprint EPIC 4G Galaxy SPH-D7...    Samsung  199.99   \n",
              "\n",
              "   Rating                                            Reviews  Review Votes  \n",
              "0       5  feel lucky found used phone used hard phone li...           1.0  \n",
              "1       4  nice phone nice grade pantach revue clean set ...           0.0  \n",
              "2       5                                            pleased           0.0  \n",
              "3       4     works good goes slow sometimes good phone love           0.0  \n",
              "4       4  great phone replace lost phone thing volume bu...           0.0  "
            ],
            "text/html": [
              "\n",
              "  <div id=\"df-8653f7c7-3418-4789-87fc-8643b72f9cf1\">\n",
              "    <div class=\"colab-df-container\">\n",
              "      <div>\n",
              "<style scoped>\n",
              "    .dataframe tbody tr th:only-of-type {\n",
              "        vertical-align: middle;\n",
              "    }\n",
              "\n",
              "    .dataframe tbody tr th {\n",
              "        vertical-align: top;\n",
              "    }\n",
              "\n",
              "    .dataframe thead th {\n",
              "        text-align: right;\n",
              "    }\n",
              "</style>\n",
              "<table border=\"1\" class=\"dataframe\">\n",
              "  <thead>\n",
              "    <tr style=\"text-align: right;\">\n",
              "      <th></th>\n",
              "      <th>Product Name</th>\n",
              "      <th>Brand Name</th>\n",
              "      <th>Price</th>\n",
              "      <th>Rating</th>\n",
              "      <th>Reviews</th>\n",
              "      <th>Review Votes</th>\n",
              "    </tr>\n",
              "  </thead>\n",
              "  <tbody>\n",
              "    <tr>\n",
              "      <th>0</th>\n",
              "      <td>\"CLEAR CLEAN ESN\" Sprint EPIC 4G Galaxy SPH-D7...</td>\n",
              "      <td>Samsung</td>\n",
              "      <td>199.99</td>\n",
              "      <td>5</td>\n",
              "      <td>feel lucky found used phone used hard phone li...</td>\n",
              "      <td>1.0</td>\n",
              "    </tr>\n",
              "    <tr>\n",
              "      <th>1</th>\n",
              "      <td>\"CLEAR CLEAN ESN\" Sprint EPIC 4G Galaxy SPH-D7...</td>\n",
              "      <td>Samsung</td>\n",
              "      <td>199.99</td>\n",
              "      <td>4</td>\n",
              "      <td>nice phone nice grade pantach revue clean set ...</td>\n",
              "      <td>0.0</td>\n",
              "    </tr>\n",
              "    <tr>\n",
              "      <th>2</th>\n",
              "      <td>\"CLEAR CLEAN ESN\" Sprint EPIC 4G Galaxy SPH-D7...</td>\n",
              "      <td>Samsung</td>\n",
              "      <td>199.99</td>\n",
              "      <td>5</td>\n",
              "      <td>pleased</td>\n",
              "      <td>0.0</td>\n",
              "    </tr>\n",
              "    <tr>\n",
              "      <th>3</th>\n",
              "      <td>\"CLEAR CLEAN ESN\" Sprint EPIC 4G Galaxy SPH-D7...</td>\n",
              "      <td>Samsung</td>\n",
              "      <td>199.99</td>\n",
              "      <td>4</td>\n",
              "      <td>works good goes slow sometimes good phone love</td>\n",
              "      <td>0.0</td>\n",
              "    </tr>\n",
              "    <tr>\n",
              "      <th>4</th>\n",
              "      <td>\"CLEAR CLEAN ESN\" Sprint EPIC 4G Galaxy SPH-D7...</td>\n",
              "      <td>Samsung</td>\n",
              "      <td>199.99</td>\n",
              "      <td>4</td>\n",
              "      <td>great phone replace lost phone thing volume bu...</td>\n",
              "      <td>0.0</td>\n",
              "    </tr>\n",
              "  </tbody>\n",
              "</table>\n",
              "</div>\n",
              "      <button class=\"colab-df-convert\" onclick=\"convertToInteractive('df-8653f7c7-3418-4789-87fc-8643b72f9cf1')\"\n",
              "              title=\"Convert this dataframe to an interactive table.\"\n",
              "              style=\"display:none;\">\n",
              "        \n",
              "  <svg xmlns=\"http://www.w3.org/2000/svg\" height=\"24px\"viewBox=\"0 0 24 24\"\n",
              "       width=\"24px\">\n",
              "    <path d=\"M0 0h24v24H0V0z\" fill=\"none\"/>\n",
              "    <path d=\"M18.56 5.44l.94 2.06.94-2.06 2.06-.94-2.06-.94-.94-2.06-.94 2.06-2.06.94zm-11 1L8.5 8.5l.94-2.06 2.06-.94-2.06-.94L8.5 2.5l-.94 2.06-2.06.94zm10 10l.94 2.06.94-2.06 2.06-.94-2.06-.94-.94-2.06-.94 2.06-2.06.94z\"/><path d=\"M17.41 7.96l-1.37-1.37c-.4-.4-.92-.59-1.43-.59-.52 0-1.04.2-1.43.59L10.3 9.45l-7.72 7.72c-.78.78-.78 2.05 0 2.83L4 21.41c.39.39.9.59 1.41.59.51 0 1.02-.2 1.41-.59l7.78-7.78 2.81-2.81c.8-.78.8-2.07 0-2.86zM5.41 20L4 18.59l7.72-7.72 1.47 1.35L5.41 20z\"/>\n",
              "  </svg>\n",
              "      </button>\n",
              "      \n",
              "  <style>\n",
              "    .colab-df-container {\n",
              "      display:flex;\n",
              "      flex-wrap:wrap;\n",
              "      gap: 12px;\n",
              "    }\n",
              "\n",
              "    .colab-df-convert {\n",
              "      background-color: #E8F0FE;\n",
              "      border: none;\n",
              "      border-radius: 50%;\n",
              "      cursor: pointer;\n",
              "      display: none;\n",
              "      fill: #1967D2;\n",
              "      height: 32px;\n",
              "      padding: 0 0 0 0;\n",
              "      width: 32px;\n",
              "    }\n",
              "\n",
              "    .colab-df-convert:hover {\n",
              "      background-color: #E2EBFA;\n",
              "      box-shadow: 0px 1px 2px rgba(60, 64, 67, 0.3), 0px 1px 3px 1px rgba(60, 64, 67, 0.15);\n",
              "      fill: #174EA6;\n",
              "    }\n",
              "\n",
              "    [theme=dark] .colab-df-convert {\n",
              "      background-color: #3B4455;\n",
              "      fill: #D2E3FC;\n",
              "    }\n",
              "\n",
              "    [theme=dark] .colab-df-convert:hover {\n",
              "      background-color: #434B5C;\n",
              "      box-shadow: 0px 1px 3px 1px rgba(0, 0, 0, 0.15);\n",
              "      filter: drop-shadow(0px 1px 2px rgba(0, 0, 0, 0.3));\n",
              "      fill: #FFFFFF;\n",
              "    }\n",
              "  </style>\n",
              "\n",
              "      <script>\n",
              "        const buttonEl =\n",
              "          document.querySelector('#df-8653f7c7-3418-4789-87fc-8643b72f9cf1 button.colab-df-convert');\n",
              "        buttonEl.style.display =\n",
              "          google.colab.kernel.accessAllowed ? 'block' : 'none';\n",
              "\n",
              "        async function convertToInteractive(key) {\n",
              "          const element = document.querySelector('#df-8653f7c7-3418-4789-87fc-8643b72f9cf1');\n",
              "          const dataTable =\n",
              "            await google.colab.kernel.invokeFunction('convertToInteractive',\n",
              "                                                     [key], {});\n",
              "          if (!dataTable) return;\n",
              "\n",
              "          const docLinkHtml = 'Like what you see? Visit the ' +\n",
              "            '<a target=\"_blank\" href=https://colab.research.google.com/notebooks/data_table.ipynb>data table notebook</a>'\n",
              "            + ' to learn more about interactive tables.';\n",
              "          element.innerHTML = '';\n",
              "          dataTable['output_type'] = 'display_data';\n",
              "          await google.colab.output.renderOutput(dataTable, element);\n",
              "          const docLink = document.createElement('div');\n",
              "          docLink.innerHTML = docLinkHtml;\n",
              "          element.appendChild(docLink);\n",
              "        }\n",
              "      </script>\n",
              "    </div>\n",
              "  </div>\n",
              "  "
            ]
          },
          "metadata": {},
          "execution_count": 28
        }
      ]
    },
    {
      "cell_type": "code",
      "source": [
        "# TF-IDF \n",
        "\n",
        "from sklearn.feature_extraction.text import TfidfVectorizer\n",
        "TfidfVect = TfidfVectorizer()\n",
        "tfidf_vects = TfidfVect.fit_transform(Data['Reviews'].values.astype('U'))\n",
        "Names= TfidfVect.get_feature_names()\n",
        "\n",
        "## elbow model\n",
        "\n",
        "from sklearn.cluster import KMeans\n",
        "wcss = []\n",
        "for i in range(2,12):\n",
        "    kmeans = KMeans(n_clusters = i, init = \"k-means++\", random_state = 101)\n",
        "    kmeans.fit(tfidf_vects)\n",
        "    wcss.append(kmeans.inertia_)\n",
        "\n",
        "plt.figure(figsize = (11,6))\n",
        "plt.plot(range(2,12), wcss, marker = \"o\")\n",
        "plt.title (\"The Elbow Method\")\n",
        "plt.xlabel(\"Number of clusters\")\n",
        "plt.ylabel(\"WCSS\")"
      ],
      "metadata": {
        "colab": {
          "base_uri": "https://localhost:8080/",
          "height": 422
        },
        "id": "GD4NXDEqQDZl",
        "outputId": "2699729d-0914-4ad2-8be2-97eb8ae569e0"
      },
      "execution_count": 29,
      "outputs": [
        {
          "output_type": "execute_result",
          "data": {
            "text/plain": [
              "Text(0, 0.5, 'WCSS')"
            ]
          },
          "metadata": {},
          "execution_count": 29
        },
        {
          "output_type": "display_data",
          "data": {
            "text/plain": [
              "<Figure size 792x432 with 1 Axes>"
            ],
            "image/png": "[encoded data removed]"
          },
          "metadata": {
            "needs_background": "light"
          }
        }
      ]
    },
    {
      "cell_type": "code",
      "source": [
        "# 4 clusters\n",
        "from sklearn.cluster import KMeans\n",
        "model = KMeans(n_clusters = 4,init='k-means++',max_iter=10000, random_state=50)\n",
        "model.fit(tfidf_vects)\n",
        "from collections import Counter\n",
        "Counter(model.labels_)"
      ],
      "metadata": {
        "colab": {
          "base_uri": "https://localhost:8080/"
        },
        "id": "BIwBDo2DQGaz",
        "outputId": "a3b8bbbc-6765-435c-b0da-da88a2d51ca4"
      },
      "execution_count": 30,
      "outputs": [
        {
          "output_type": "execute_result",
          "data": {
            "text/plain": [
              "Counter({0: 543, 1: 253, 2: 883, 3: 11613})"
            ]
          },
          "metadata": {},
          "execution_count": 30
        }
      ]
    },
    {
      "cell_type": "code",
      "source": [
        "top_words = 7\n",
        "centroids = model.cluster_centers_.argsort()[:, ::-1]\n",
        "for cluster_num in range(4):\n",
        "    key_features = [Names[i] for i in centroids[cluster_num, :top_words]]\n",
        "    print('Cluster '+str(cluster_num+1))\n",
        "    print('Top Words:', key_features)"
      ],
      "metadata": {
        "colab": {
          "base_uri": "https://localhost:8080/"
        },
        "id": "CmhwxlByQIFT",
        "outputId": "7e1bc6a5-8974-492c-f3a7-e876b5edd1ee"
      },
      "execution_count": 31,
      "outputs": [
        {
          "output_type": "stream",
          "name": "stdout",
          "text": [
            "Cluster 1\n",
            "Top Words: ['good', 'phone', 'product', 'far', 'works', 'condition', 'price']\n",
            "Cluster 2\n",
            "Top Words: ['excellent', 'product', 'condition', 'recommend', 'thank', 'seller', 'phone']\n",
            "Cluster 3\n",
            "Top Words: ['great', 'works', 'phone', 'price', 'product', 'condition', 'love']\n",
            "Cluster 4\n",
            "Top Words: ['phone', 'iphone', 'good', 'love', 'new', 'work', 'like']\n"
          ]
        }
      ]
    },
    {
      "cell_type": "code",
      "source": [
        "ClusterCenter=model.cluster_centers_\n",
        "ClusterCenter"
      ],
      "metadata": {
        "colab": {
          "base_uri": "https://localhost:8080/"
        },
        "id": "WEH16ohMQJ7A",
        "outputId": "5fc218d2-0416-46aa-cb57-3212de85c918"
      },
      "execution_count": 32,
      "outputs": [
        {
          "output_type": "execute_result",
          "data": {
            "text/plain": [
              "array([[0.00000000e+00, 0.00000000e+00, 0.00000000e+00, ...,\n",
              "        0.00000000e+00, 0.00000000e+00, 0.00000000e+00],\n",
              "       [0.00000000e+00, 0.00000000e+00, 0.00000000e+00, ...,\n",
              "        0.00000000e+00, 0.00000000e+00, 0.00000000e+00],\n",
              "       [0.00000000e+00, 0.00000000e+00, 0.00000000e+00, ...,\n",
              "        0.00000000e+00, 0.00000000e+00, 0.00000000e+00],\n",
              "       [5.11058922e-06, 2.47543485e-05, 2.52701725e-04, ...,\n",
              "        3.23334818e-05, 2.90059312e-05, 2.90059312e-05]])"
            ]
          },
          "metadata": {},
          "execution_count": 32
        }
      ]
    },
    {
      "cell_type": "code",
      "source": [
        "#DBSCAN\n",
        "\n",
        "reviews=[]\n",
        "for i in Data['Reviews']:\n",
        "    reviews.append(str(i).split())\n",
        "import gensim\n",
        "w2v_model=gensim.models.Word2Vec(reviews, size=100, workers=4)\n",
        "\n",
        "import numpy as np\n",
        "vectors = []\n",
        "for i in reviews:\n",
        "    vector = np.zeros(100)\n",
        "    count = 0\n",
        "    for word in i:\n",
        "        try:\n",
        "            vec = w2v_model.wv[word]\n",
        "            vector += vec\n",
        "            count += 1\n",
        "        except:\n",
        "            pass\n",
        "    vector /= count\n",
        "    vectors.append(vector)  \n",
        "Vectors = np.array(vectors)\n",
        "Vectors = np.nan_to_num(vectors)"
      ],
      "metadata": {
        "id": "80Hi96kcQMFU"
      },
      "execution_count": 33,
      "outputs": []
    },
    {
      "cell_type": "code",
      "source": [
        "from sklearn.cluster import DBSCAN\n",
        "minPts = 2 * 100\n",
        "\n",
        "def lower_bound(nums, target): \n",
        "    l, r = 0, len(nums) - 1\n",
        "    \n",
        "    while l <= r:\n",
        "        mid = int(l + (r - l) / 2)\n",
        "        if nums[mid] >= target:\n",
        "            r = mid - 1\n",
        "        else:\n",
        "            l = mid + 1\n",
        "    return l\n",
        "\n",
        "def compute200thnearestneighbour(x, data): \n",
        "    dists = []\n",
        "    for val in data:\n",
        "    \n",
        "        dist = np.sum((x - val) **2 ) \n",
        "        if(len(dists) == 200 and dists[199] > dist): \n",
        "            l = int(lower_bound(dists, dist)) \n",
        "            if l < 200 and l >= 0 and dists[l] > dist:\n",
        "                dists[l] = dist\n",
        "        else:\n",
        "            dists.append(dist)\n",
        "            dists.sort()\n",
        "\n",
        "   \n",
        "    return dists[199]\n",
        "\n",
        "Vectors.shape"
      ],
      "metadata": {
        "colab": {
          "base_uri": "https://localhost:8080/"
        },
        "id": "VKpTAcFgQQ29",
        "outputId": "4f77406d-0c34-447c-869f-163e76966a87"
      },
      "execution_count": 34,
      "outputs": [
        {
          "output_type": "execute_result",
          "data": {
            "text/plain": [
              "(13292, 100)"
            ]
          },
          "metadata": {},
          "execution_count": 34
        }
      ]
    },
    {
      "cell_type": "code",
      "source": [
        "\n",
        "twohundrethneigh = []\n",
        "for val in vectors[:1000]:\n",
        "    twohundrethneigh.append( compute200thnearestneighbour(val, vectors[:1000]) )\n",
        "twohundrethneigh.sort()"
      ],
      "metadata": {
        "id": "v30HtlggQSfe"
      },
      "execution_count": 35,
      "outputs": []
    },
    {
      "cell_type": "code",
      "source": [
        "# Plotting \n",
        "%matplotlib inline\n",
        "from matplotlib import pyplot as plt\n",
        "plt.figure(figsize=(14,4))\n",
        "plt.title(\"Elbow Method for right Eps hyperparameter\")\n",
        "plt.plot([x for x in range(len(twohundrethneigh))], twohundrethneigh)\n",
        "plt.xlabel(\"Number points\")\n",
        "plt.ylabel(\"Distance 200th Nearest Neighbour\")\n",
        "plt.show()"
      ],
      "metadata": {
        "colab": {
          "base_uri": "https://localhost:8080/",
          "height": 295
        },
        "id": "GJnrYLw1QjNd",
        "outputId": "79c124a8-cb46-489e-a310-e807b0f7a9f3"
      },
      "execution_count": 39,
      "outputs": [
        {
          "output_type": "display_data",
          "data": {
            "text/plain": [
              "<Figure size 1008x288 with 1 Axes>"
            ],
            "image/png": "[encoded data removed]"
          },
          "metadata": {
            "needs_background": "light"
          }
        }
      ]
    },
    {
      "cell_type": "code",
      "source": [
        "#Model\n",
        "ModelD = DBSCAN(eps = 5, min_samples = minPts)\n",
        "ModelD.fit(Vectors)"
      ],
      "metadata": {
        "colab": {
          "base_uri": "https://localhost:8080/"
        },
        "id": "iLfzp49JQoIX",
        "outputId": "2cae048e-13d0-40d2-a231-e99abd2eec3c"
      },
      "execution_count": 42,
      "outputs": [
        {
          "output_type": "execute_result",
          "data": {
            "text/plain": [
              "DBSCAN(eps=5, min_samples=200)"
            ]
          },
          "metadata": {},
          "execution_count": 42
        }
      ]
    },
    {
      "cell_type": "code",
      "source": [
        "DataD = Data\n",
        "DataD[\"DBS Cluster Label\"] = ModelD.labels_\n",
        "DataD"
      ],
      "metadata": {
        "colab": {
          "base_uri": "https://localhost:8080/",
          "height": 424
        },
        "id": "duiw1KvhRqkN",
        "outputId": "d647b61a-7f3c-4b16-8cbf-121823f0d217"
      },
      "execution_count": 43,
      "outputs": [
        {
          "output_type": "execute_result",
          "data": {
            "text/plain": [
              "                                            Product Name Brand Name   Price  \\\n",
              "0      \"CLEAR CLEAN ESN\" Sprint EPIC 4G Galaxy SPH-D7...    Samsung  199.99   \n",
              "1      \"CLEAR CLEAN ESN\" Sprint EPIC 4G Galaxy SPH-D7...    Samsung  199.99   \n",
              "2      \"CLEAR CLEAN ESN\" Sprint EPIC 4G Galaxy SPH-D7...    Samsung  199.99   \n",
              "3      \"CLEAR CLEAN ESN\" Sprint EPIC 4G Galaxy SPH-D7...    Samsung  199.99   \n",
              "4      \"CLEAR CLEAN ESN\" Sprint EPIC 4G Galaxy SPH-D7...    Samsung  199.99   \n",
              "...                                                  ...        ...     ...   \n",
              "13287  Apple iPhone 4S 16GB Unlocked GSM - White (Cer...      Apple  129.99   \n",
              "13288  Apple iPhone 4S 16GB Unlocked GSM - White (Cer...      Apple  129.99   \n",
              "13289  Apple iPhone 4S 16GB Unlocked GSM - White (Cer...      Apple  129.99   \n",
              "13290  Apple iPhone 4S 16GB Unlocked GSM - White (Cer...      Apple  129.99   \n",
              "13291  Apple iPhone 4S 16GB Unlocked GSM - White (Cer...      Apple  129.99   \n",
              "\n",
              "       Rating                                            Reviews  \\\n",
              "0           5  feel lucky found used phone used hard phone li...   \n",
              "1           4  nice phone nice grade pantach revue clean set ...   \n",
              "2           5                                            pleased   \n",
              "3           4     works good goes slow sometimes good phone love   \n",
              "4           4  great phone replace lost phone thing volume bu...   \n",
              "...       ...                                                ...   \n",
              "13287       1  buy phone used head phone chip charger origina...   \n",
              "13288       1                                         bad batery   \n",
              "13289       3  phone works sure unlocked work carrier unlocke...   \n",
              "13290       5  delivered promised excellent condition works l...   \n",
              "13291       5                        phone works great looks new   \n",
              "\n",
              "       Review Votes  DBS Cluster Label  \n",
              "0               1.0                  0  \n",
              "1               0.0                  0  \n",
              "2               0.0                  0  \n",
              "3               0.0                  0  \n",
              "4               0.0                  0  \n",
              "...             ...                ...  \n",
              "13287           0.0                  0  \n",
              "13288           0.0                  0  \n",
              "13289           0.0                  0  \n",
              "13290           0.0                  0  \n",
              "13291           2.0                  0  \n",
              "\n",
              "[13292 rows x 7 columns]"
            ],
            "text/html": [
              "\n",
              "  <div id=\"df-29cd8fd3-ff63-48c1-9e53-023846a9bfa2\">\n",
              "    <div class=\"colab-df-container\">\n",
              "      <div>\n",
              "<style scoped>\n",
              "    .dataframe tbody tr th:only-of-type {\n",
              "        vertical-align: middle;\n",
              "    }\n",
              "\n",
              "    .dataframe tbody tr th {\n",
              "        vertical-align: top;\n",
              "    }\n",
              "\n",
              "    .dataframe thead th {\n",
              "        text-align: right;\n",
              "    }\n",
              "</style>\n",
              "<table border=\"1\" class=\"dataframe\">\n",
              "  <thead>\n",
              "    <tr style=\"text-align: right;\">\n",
              "      <th></th>\n",
              "      <th>Product Name</th>\n",
              "      <th>Brand Name</th>\n",
              "      <th>Price</th>\n",
              "      <th>Rating</th>\n",
              "      <th>Reviews</th>\n",
              "      <th>Review Votes</th>\n",
              "      <th>DBS Cluster Label</th>\n",
              "    </tr>\n",
              "  </thead>\n",
              "  <tbody>\n",
              "    <tr>\n",
              "      <th>0</th>\n",
              "      <td>\"CLEAR CLEAN ESN\" Sprint EPIC 4G Galaxy SPH-D7...</td>\n",
              "      <td>Samsung</td>\n",
              "      <td>199.99</td>\n",
              "      <td>5</td>\n",
              "      <td>feel lucky found used phone used hard phone li...</td>\n",
              "      <td>1.0</td>\n",
              "      <td>0</td>\n",
              "    </tr>\n",
              "    <tr>\n",
              "      <th>1</th>\n",
              "      <td>\"CLEAR CLEAN ESN\" Sprint EPIC 4G Galaxy SPH-D7...</td>\n",
              "      <td>Samsung</td>\n",
              "      <td>199.99</td>\n",
              "      <td>4</td>\n",
              "      <td>nice phone nice grade pantach revue clean set ...</td>\n",
              "      <td>0.0</td>\n",
              "      <td>0</td>\n",
              "    </tr>\n",
              "    <tr>\n",
              "      <th>2</th>\n",
              "      <td>\"CLEAR CLEAN ESN\" Sprint EPIC 4G Galaxy SPH-D7...</td>\n",
              "      <td>Samsung</td>\n",
              "      <td>199.99</td>\n",
              "      <td>5</td>\n",
              "      <td>pleased</td>\n",
              "      <td>0.0</td>\n",
              "      <td>0</td>\n",
              "    </tr>\n",
              "    <tr>\n",
              "      <th>3</th>\n",
              "      <td>\"CLEAR CLEAN ESN\" Sprint EPIC 4G Galaxy SPH-D7...</td>\n",
              "      <td>Samsung</td>\n",
              "      <td>199.99</td>\n",
              "      <td>4</td>\n",
              "      <td>works good goes slow sometimes good phone love</td>\n",
              "      <td>0.0</td>\n",
              "      <td>0</td>\n",
              "    </tr>\n",
              "    <tr>\n",
              "      <th>4</th>\n",
              "      <td>\"CLEAR CLEAN ESN\" Sprint EPIC 4G Galaxy SPH-D7...</td>\n",
              "      <td>Samsung</td>\n",
              "      <td>199.99</td>\n",
              "      <td>4</td>\n",
              "      <td>great phone replace lost phone thing volume bu...</td>\n",
              "      <td>0.0</td>\n",
              "      <td>0</td>\n",
              "    </tr>\n",
              "    <tr>\n",
              "      <th>...</th>\n",
              "      <td>...</td>\n",
              "      <td>...</td>\n",
              "      <td>...</td>\n",
              "      <td>...</td>\n",
              "      <td>...</td>\n",
              "      <td>...</td>\n",
              "      <td>...</td>\n",
              "    </tr>\n",
              "    <tr>\n",
              "      <th>13287</th>\n",
              "      <td>Apple iPhone 4S 16GB Unlocked GSM - White (Cer...</td>\n",
              "      <td>Apple</td>\n",
              "      <td>129.99</td>\n",
              "      <td>1</td>\n",
              "      <td>buy phone used head phone chip charger origina...</td>\n",
              "      <td>0.0</td>\n",
              "      <td>0</td>\n",
              "    </tr>\n",
              "    <tr>\n",
              "      <th>13288</th>\n",
              "      <td>Apple iPhone 4S 16GB Unlocked GSM - White (Cer...</td>\n",
              "      <td>Apple</td>\n",
              "      <td>129.99</td>\n",
              "      <td>1</td>\n",
              "      <td>bad batery</td>\n",
              "      <td>0.0</td>\n",
              "      <td>0</td>\n",
              "    </tr>\n",
              "    <tr>\n",
              "      <th>13289</th>\n",
              "      <td>Apple iPhone 4S 16GB Unlocked GSM - White (Cer...</td>\n",
              "      <td>Apple</td>\n",
              "      <td>129.99</td>\n",
              "      <td>3</td>\n",
              "      <td>phone works sure unlocked work carrier unlocke...</td>\n",
              "      <td>0.0</td>\n",
              "      <td>0</td>\n",
              "    </tr>\n",
              "    <tr>\n",
              "      <th>13290</th>\n",
              "      <td>Apple iPhone 4S 16GB Unlocked GSM - White (Cer...</td>\n",
              "      <td>Apple</td>\n",
              "      <td>129.99</td>\n",
              "      <td>5</td>\n",
              "      <td>delivered promised excellent condition works l...</td>\n",
              "      <td>0.0</td>\n",
              "      <td>0</td>\n",
              "    </tr>\n",
              "    <tr>\n",
              "      <th>13291</th>\n",
              "      <td>Apple iPhone 4S 16GB Unlocked GSM - White (Cer...</td>\n",
              "      <td>Apple</td>\n",
              "      <td>129.99</td>\n",
              "      <td>5</td>\n",
              "      <td>phone works great looks new</td>\n",
              "      <td>2.0</td>\n",
              "      <td>0</td>\n",
              "    </tr>\n",
              "  </tbody>\n",
              "</table>\n",
              "<p>13292 rows × 7 columns</p>\n",
              "</div>\n",
              "      <button class=\"colab-df-convert\" onclick=\"convertToInteractive('df-29cd8fd3-ff63-48c1-9e53-023846a9bfa2')\"\n",
              "              title=\"Convert this dataframe to an interactive table.\"\n",
              "              style=\"display:none;\">\n",
              "        \n",
              "  <svg xmlns=\"http://www.w3.org/2000/svg\" height=\"24px\"viewBox=\"0 0 24 24\"\n",
              "       width=\"24px\">\n",
              "    <path d=\"M0 0h24v24H0V0z\" fill=\"none\"/>\n",
              "    <path d=\"M18.56 5.44l.94 2.06.94-2.06 2.06-.94-2.06-.94-.94-2.06-.94 2.06-2.06.94zm-11 1L8.5 8.5l.94-2.06 2.06-.94-2.06-.94L8.5 2.5l-.94 2.06-2.06.94zm10 10l.94 2.06.94-2.06 2.06-.94-2.06-.94-.94-2.06-.94 2.06-2.06.94z\"/><path d=\"M17.41 7.96l-1.37-1.37c-.4-.4-.92-.59-1.43-.59-.52 0-1.04.2-1.43.59L10.3 9.45l-7.72 7.72c-.78.78-.78 2.05 0 2.83L4 21.41c.39.39.9.59 1.41.59.51 0 1.02-.2 1.41-.59l7.78-7.78 2.81-2.81c.8-.78.8-2.07 0-2.86zM5.41 20L4 18.59l7.72-7.72 1.47 1.35L5.41 20z\"/>\n",
              "  </svg>\n",
              "      </button>\n",
              "      \n",
              "  <style>\n",
              "    .colab-df-container {\n",
              "      display:flex;\n",
              "      flex-wrap:wrap;\n",
              "      gap: 12px;\n",
              "    }\n",
              "\n",
              "    .colab-df-convert {\n",
              "      background-color: #E8F0FE;\n",
              "      border: none;\n",
              "      border-radius: 50%;\n",
              "      cursor: pointer;\n",
              "      display: none;\n",
              "      fill: #1967D2;\n",
              "      height: 32px;\n",
              "      padding: 0 0 0 0;\n",
              "      width: 32px;\n",
              "    }\n",
              "\n",
              "    .colab-df-convert:hover {\n",
              "      background-color: #E2EBFA;\n",
              "      box-shadow: 0px 1px 2px rgba(60, 64, 67, 0.3), 0px 1px 3px 1px rgba(60, 64, 67, 0.15);\n",
              "      fill: #174EA6;\n",
              "    }\n",
              "\n",
              "    [theme=dark] .colab-df-convert {\n",
              "      background-color: #3B4455;\n",
              "      fill: #D2E3FC;\n",
              "    }\n",
              "\n",
              "    [theme=dark] .colab-df-convert:hover {\n",
              "      background-color: #434B5C;\n",
              "      box-shadow: 0px 1px 3px 1px rgba(0, 0, 0, 0.15);\n",
              "      filter: drop-shadow(0px 1px 2px rgba(0, 0, 0, 0.3));\n",
              "      fill: #FFFFFF;\n",
              "    }\n",
              "  </style>\n",
              "\n",
              "      <script>\n",
              "        const buttonEl =\n",
              "          document.querySelector('#df-29cd8fd3-ff63-48c1-9e53-023846a9bfa2 button.colab-df-convert');\n",
              "        buttonEl.style.display =\n",
              "          google.colab.kernel.accessAllowed ? 'block' : 'none';\n",
              "\n",
              "        async function convertToInteractive(key) {\n",
              "          const element = document.querySelector('#df-29cd8fd3-ff63-48c1-9e53-023846a9bfa2');\n",
              "          const dataTable =\n",
              "            await google.colab.kernel.invokeFunction('convertToInteractive',\n",
              "                                                     [key], {});\n",
              "          if (!dataTable) return;\n",
              "\n",
              "          const docLinkHtml = 'Like what you see? Visit the ' +\n",
              "            '<a target=\"_blank\" href=https://colab.research.google.com/notebooks/data_table.ipynb>data table notebook</a>'\n",
              "            + ' to learn more about interactive tables.';\n",
              "          element.innerHTML = '';\n",
              "          dataTable['output_type'] = 'display_data';\n",
              "          await google.colab.output.renderOutput(dataTable, element);\n",
              "          const docLink = document.createElement('div');\n",
              "          docLink.innerHTML = docLinkHtml;\n",
              "          element.appendChild(docLink);\n",
              "        }\n",
              "      </script>\n",
              "    </div>\n",
              "  </div>\n",
              "  "
            ]
          },
          "metadata": {},
          "execution_count": 43
        }
      ]
    },
    {
      "cell_type": "code",
      "source": [
        "#Hierarchical clustering\n",
        "import scipy\n",
        "from scipy.cluster import hierarchy\n",
        "dendro=hierarchy.dendrogram(hierarchy.linkage(Vectors,method='ward'))\n",
        "plt.axhline(y=20)"
      ],
      "metadata": {
        "colab": {
          "base_uri": "https://localhost:8080/",
          "height": 289
        },
        "id": "a4DjIz41RhgE",
        "outputId": "f54ecd54-edbe-4558-d041-78cebd6c583b"
      },
      "execution_count": 47,
      "outputs": [
        {
          "output_type": "execute_result",
          "data": {
            "text/plain": [
              "<matplotlib.lines.Line2D at 0x7f312fe34bd0>"
            ]
          },
          "metadata": {},
          "execution_count": 47
        },
        {
          "output_type": "display_data",
          "data": {
            "text/plain": [
              "<Figure size 432x288 with 1 Axes>"
            ],
            "image/png": "[encoded data removed]"
          },
          "metadata": {
            "needs_background": "light"
          }
        }
      ]
    },
    {
      "cell_type": "code",
      "source": [
        "from sklearn.cluster import AgglomerativeClustering\n",
        "\n",
        "cluster = AgglomerativeClustering(n_clusters=3, affinity='euclidean', linkage='ward')  #took n=3 from dendrogram curve \n",
        "Agg=cluster.fit_predict(Vectors)"
      ],
      "metadata": {
        "id": "TO5SRUs4SEvj"
      },
      "execution_count": 48,
      "outputs": []
    },
    {
      "cell_type": "code",
      "source": [
        "DataD['AVG-W2V Clus Label'] = cluster.labels_\n",
        "DataD.head()"
      ],
      "metadata": {
        "colab": {
          "base_uri": "https://localhost:8080/",
          "height": 206
        },
        "id": "5k4RJ4t0Sc9i",
        "outputId": "15a27317-c9e4-4c6f-edfc-6906b6833771"
      },
      "execution_count": 49,
      "outputs": [
        {
          "output_type": "execute_result",
          "data": {
            "text/plain": [
              "                                        Product Name Brand Name   Price  \\\n",
              "0  \"CLEAR CLEAN ESN\" Sprint EPIC 4G Galaxy SPH-D7...    Samsung  199.99   \n",
              "1  \"CLEAR CLEAN ESN\" Sprint EPIC 4G Galaxy SPH-D7...    Samsung  199.99   \n",
              "2  \"CLEAR CLEAN ESN\" Sprint EPIC 4G Galaxy SPH-D7...    Samsung  199.99   \n",
              "3  \"CLEAR CLEAN ESN\" Sprint EPIC 4G Galaxy SPH-D7...    Samsung  199.99   \n",
              "4  \"CLEAR CLEAN ESN\" Sprint EPIC 4G Galaxy SPH-D7...    Samsung  199.99   \n",
              "\n",
              "   Rating                                            Reviews  Review Votes  \\\n",
              "0       5  feel lucky found used phone used hard phone li...           1.0   \n",
              "1       4  nice phone nice grade pantach revue clean set ...           0.0   \n",
              "2       5                                            pleased           0.0   \n",
              "3       4     works good goes slow sometimes good phone love           0.0   \n",
              "4       4  great phone replace lost phone thing volume bu...           0.0   \n",
              "\n",
              "   DBS Cluster Label  AVG-W2V Clus Label  \n",
              "0                  0                   2  \n",
              "1                  0                   2  \n",
              "2                  0                   2  \n",
              "3                  0                   2  \n",
              "4                  0                   1  "
            ],
            "text/html": [
              "\n",
              "  <div id=\"df-1888da46-7768-481a-ae3c-71f8e16e55b4\">\n",
              "    <div class=\"colab-df-container\">\n",
              "      <div>\n",
              "<style scoped>\n",
              "    .dataframe tbody tr th:only-of-type {\n",
              "        vertical-align: middle;\n",
              "    }\n",
              "\n",
              "    .dataframe tbody tr th {\n",
              "        vertical-align: top;\n",
              "    }\n",
              "\n",
              "    .dataframe thead th {\n",
              "        text-align: right;\n",
              "    }\n",
              "</style>\n",
              "<table border=\"1\" class=\"dataframe\">\n",
              "  <thead>\n",
              "    <tr style=\"text-align: right;\">\n",
              "      <th></th>\n",
              "      <th>Product Name</th>\n",
              "      <th>Brand Name</th>\n",
              "      <th>Price</th>\n",
              "      <th>Rating</th>\n",
              "      <th>Reviews</th>\n",
              "      <th>Review Votes</th>\n",
              "      <th>DBS Cluster Label</th>\n",
              "      <th>AVG-W2V Clus Label</th>\n",
              "    </tr>\n",
              "  </thead>\n",
              "  <tbody>\n",
              "    <tr>\n",
              "      <th>0</th>\n",
              "      <td>\"CLEAR CLEAN ESN\" Sprint EPIC 4G Galaxy SPH-D7...</td>\n",
              "      <td>Samsung</td>\n",
              "      <td>199.99</td>\n",
              "      <td>5</td>\n",
              "      <td>feel lucky found used phone used hard phone li...</td>\n",
              "      <td>1.0</td>\n",
              "      <td>0</td>\n",
              "      <td>2</td>\n",
              "    </tr>\n",
              "    <tr>\n",
              "      <th>1</th>\n",
              "      <td>\"CLEAR CLEAN ESN\" Sprint EPIC 4G Galaxy SPH-D7...</td>\n",
              "      <td>Samsung</td>\n",
              "      <td>199.99</td>\n",
              "      <td>4</td>\n",
              "      <td>nice phone nice grade pantach revue clean set ...</td>\n",
              "      <td>0.0</td>\n",
              "      <td>0</td>\n",
              "      <td>2</td>\n",
              "    </tr>\n",
              "    <tr>\n",
              "      <th>2</th>\n",
              "      <td>\"CLEAR CLEAN ESN\" Sprint EPIC 4G Galaxy SPH-D7...</td>\n",
              "      <td>Samsung</td>\n",
              "      <td>199.99</td>\n",
              "      <td>5</td>\n",
              "      <td>pleased</td>\n",
              "      <td>0.0</td>\n",
              "      <td>0</td>\n",
              "      <td>2</td>\n",
              "    </tr>\n",
              "    <tr>\n",
              "      <th>3</th>\n",
              "      <td>\"CLEAR CLEAN ESN\" Sprint EPIC 4G Galaxy SPH-D7...</td>\n",
              "      <td>Samsung</td>\n",
              "      <td>199.99</td>\n",
              "      <td>4</td>\n",
              "      <td>works good goes slow sometimes good phone love</td>\n",
              "      <td>0.0</td>\n",
              "      <td>0</td>\n",
              "      <td>2</td>\n",
              "    </tr>\n",
              "    <tr>\n",
              "      <th>4</th>\n",
              "      <td>\"CLEAR CLEAN ESN\" Sprint EPIC 4G Galaxy SPH-D7...</td>\n",
              "      <td>Samsung</td>\n",
              "      <td>199.99</td>\n",
              "      <td>4</td>\n",
              "      <td>great phone replace lost phone thing volume bu...</td>\n",
              "      <td>0.0</td>\n",
              "      <td>0</td>\n",
              "      <td>1</td>\n",
              "    </tr>\n",
              "  </tbody>\n",
              "</table>\n",
              "</div>\n",
              "      <button class=\"colab-df-convert\" onclick=\"convertToInteractive('df-1888da46-7768-481a-ae3c-71f8e16e55b4')\"\n",
              "              title=\"Convert this dataframe to an interactive table.\"\n",
              "              style=\"display:none;\">\n",
              "        \n",
              "  <svg xmlns=\"http://www.w3.org/2000/svg\" height=\"24px\"viewBox=\"0 0 24 24\"\n",
              "       width=\"24px\">\n",
              "    <path d=\"M0 0h24v24H0V0z\" fill=\"none\"/>\n",
              "    <path d=\"M18.56 5.44l.94 2.06.94-2.06 2.06-.94-2.06-.94-.94-2.06-.94 2.06-2.06.94zm-11 1L8.5 8.5l.94-2.06 2.06-.94-2.06-.94L8.5 2.5l-.94 2.06-2.06.94zm10 10l.94 2.06.94-2.06 2.06-.94-2.06-.94-.94-2.06-.94 2.06-2.06.94z\"/><path d=\"M17.41 7.96l-1.37-1.37c-.4-.4-.92-.59-1.43-.59-.52 0-1.04.2-1.43.59L10.3 9.45l-7.72 7.72c-.78.78-.78 2.05 0 2.83L4 21.41c.39.39.9.59 1.41.59.51 0 1.02-.2 1.41-.59l7.78-7.78 2.81-2.81c.8-.78.8-2.07 0-2.86zM5.41 20L4 18.59l7.72-7.72 1.47 1.35L5.41 20z\"/>\n",
              "  </svg>\n",
              "      </button>\n",
              "      \n",
              "  <style>\n",
              "    .colab-df-container {\n",
              "      display:flex;\n",
              "      flex-wrap:wrap;\n",
              "      gap: 12px;\n",
              "    }\n",
              "\n",
              "    .colab-df-convert {\n",
              "      background-color: #E8F0FE;\n",
              "      border: none;\n",
              "      border-radius: 50%;\n",
              "      cursor: pointer;\n",
              "      display: none;\n",
              "      fill: #1967D2;\n",
              "      height: 32px;\n",
              "      padding: 0 0 0 0;\n",
              "      width: 32px;\n",
              "    }\n",
              "\n",
              "    .colab-df-convert:hover {\n",
              "      background-color: #E2EBFA;\n",
              "      box-shadow: 0px 1px 2px rgba(60, 64, 67, 0.3), 0px 1px 3px 1px rgba(60, 64, 67, 0.15);\n",
              "      fill: #174EA6;\n",
              "    }\n",
              "\n",
              "    [theme=dark] .colab-df-convert {\n",
              "      background-color: #3B4455;\n",
              "      fill: #D2E3FC;\n",
              "    }\n",
              "\n",
              "    [theme=dark] .colab-df-convert:hover {\n",
              "      background-color: #434B5C;\n",
              "      box-shadow: 0px 1px 3px 1px rgba(0, 0, 0, 0.15);\n",
              "      filter: drop-shadow(0px 1px 2px rgba(0, 0, 0, 0.3));\n",
              "      fill: #FFFFFF;\n",
              "    }\n",
              "  </style>\n",
              "\n",
              "      <script>\n",
              "        const buttonEl =\n",
              "          document.querySelector('#df-1888da46-7768-481a-ae3c-71f8e16e55b4 button.colab-df-convert');\n",
              "        buttonEl.style.display =\n",
              "          google.colab.kernel.accessAllowed ? 'block' : 'none';\n",
              "\n",
              "        async function convertToInteractive(key) {\n",
              "          const element = document.querySelector('#df-1888da46-7768-481a-ae3c-71f8e16e55b4');\n",
              "          const dataTable =\n",
              "            await google.colab.kernel.invokeFunction('convertToInteractive',\n",
              "                                                     [key], {});\n",
              "          if (!dataTable) return;\n",
              "\n",
              "          const docLinkHtml = 'Like what you see? Visit the ' +\n",
              "            '<a target=\"_blank\" href=https://colab.research.google.com/notebooks/data_table.ipynb>data table notebook</a>'\n",
              "            + ' to learn more about interactive tables.';\n",
              "          element.innerHTML = '';\n",
              "          dataTable['output_type'] = 'display_data';\n",
              "          await google.colab.output.renderOutput(dataTable, element);\n",
              "          const docLink = document.createElement('div');\n",
              "          docLink.innerHTML = docLinkHtml;\n",
              "          element.appendChild(docLink);\n",
              "        }\n",
              "      </script>\n",
              "    </div>\n",
              "  </div>\n",
              "  "
            ]
          },
          "metadata": {},
          "execution_count": 49
        }
      ]
    },
    {
      "cell_type": "code",
      "source": [
        "HierData = Data \n",
        "HierData[\"hierarchial cluster labels\"] = cluster.labels_\n",
        "HierData.groupby([\"hierarchial cluster labels\"])[\"Reviews\"].count()"
      ],
      "metadata": {
        "colab": {
          "base_uri": "https://localhost:8080/"
        },
        "id": "dWJFFovsTval",
        "outputId": "c9c7681d-7ff7-426c-d6d9-57a66d2218d0"
      },
      "execution_count": 51,
      "outputs": [
        {
          "output_type": "execute_result",
          "data": {
            "text/plain": [
              "hierarchial cluster labels\n",
              "0    2721\n",
              "1    6329\n",
              "2    4242\n",
              "Name: Reviews, dtype: int64"
            ]
          },
          "metadata": {},
          "execution_count": 51
        }
      ]
    },
    {
      "cell_type": "markdown",
      "metadata": {
        "id": "naunw1o52Qv7"
      },
      "source": [
        "In one paragraph, please compare K means, DBSCAN and Hierarchical clustering."
      ]
    },
    {
      "cell_type": "code",
      "execution_count": null,
      "metadata": {
        "id": "QZVCom7T2Qv7"
      },
      "outputs": [],
      "source": [
        "#You can write you answer here. (No code needed)\n",
        "\n"
      ]
    },
    {
      "cell_type": "markdown",
      "source": [
        "The Hierarchical clustering method properly clusters the reviews in such a way that you can select at which stage with which detail you want to see results. The Hierarchical clustering method provides a better results than two other methods and makes us efficient and gives us more degree of freedom to select number of clusters. However, the other two methods do not follow this concept. KMean we have to identify the number of clusters and we cannot see the relationships between a set of clusters. Also, DBSCAN is limited to an assumption that limits the outcomes. DBSCAN is a density-based clustering algorithm and assumes that density exists in data."
      ],
      "metadata": {
        "id": "qqWyv819W0tx"
      }
    }
  ],
  "metadata": {
    "colab": {
      "name": "In_class_exercise_05-2.ipynb",
      "provenance": [],
      "collapsed_sections": []
    },
    "kernelspec": {
      "display_name": "Python 3",
      "language": "python",
      "name": "python3"
    },
    "language_info": {
      "codemirror_mode": {
        "name": "ipython",
        "version": 3
      },
      "file_extension": ".py",
      "mimetype": "text/x-python",
      "name": "python",
      "nbconvert_exporter": "python",
      "pygments_lexer": "ipython3",
      "version": "3.8.5"
    }
  },
  "nbformat": 4,
  "nbformat_minor": 0
}