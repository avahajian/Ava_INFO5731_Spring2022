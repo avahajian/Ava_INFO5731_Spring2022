{
  "cells": [
    {
      "cell_type": "markdown",
      "metadata": {
        "id": "view-in-github"
      },
      "source": [
        "<a href=\"https://colab.research.google.com/github/unt-iialab/INFO5731_Spring2020/blob/master/In_class_exercise/In_class_exercise_01.ipynb\" target=\"_parent\"><img src=\"https://colab.research.google.com/assets/colab-badge.svg\" alt=\"Open In Colab\"/></a>"
      ]
    },
    {
      "cell_type": "markdown",
      "metadata": {
        "id": "DymRJbxDBCnf"
      },
      "source": [
        "# **The first In-class-exercise (01/25/2022, 40 points in total)**"
      ]
    },
    {
      "cell_type": "markdown",
      "metadata": {
        "id": "03jb4GZsBkBS"
      },
      "source": [
        "(1) Write a Python program to calculate the length of a string. (4 points)"
      ]
    },
    {
      "cell_type": "code",
      "source": [
        "# write your answer here\n",
        "def lenText(str1):\n",
        "    l1 = 0\n",
        "    for char in str1:\n",
        "        l1 = l1+1\n",
        "    return l1\n",
        "\n",
        "print('Lentgth of \"Welcome to the class, Ava\" is:',lenText(\"Welcome to the class, Ava\"))"
      ],
      "metadata": {
        "colab": {
          "base_uri": "https://localhost:8080/"
        },
        "id": "vDHWYkiwq_8j",
        "outputId": "d9725c86-3bd8-4144-c9f6-4f627cb1d429"
      },
      "execution_count": 123,
      "outputs": [
        {
          "output_type": "stream",
          "name": "stdout",
          "text": [
            "Lentgth of \"Welcome to the class, Ava\" is: 25\n"
          ]
        }
      ]
    },
    {
      "cell_type": "markdown",
      "metadata": {
        "id": "jJDe71iLB616"
      },
      "source": [
        "(2) Write a Python program to count the number of characters in a string. (4 points)\n",
        "\n",
        "Sample String : 'google.com‘, \n",
        "\n",
        "Expected Result : {'o': 3, 'g': 2, '.': 1, 'e': 1, 'l': 1, 'm': 1, 'c': 1}"
      ]
    },
    {
      "cell_type": "code",
      "source": [
        "# write your answer here\n",
        "def Number_of_characters(Text):    \n",
        "    Dictionary = {}\n",
        "    for x in Text:        \n",
        "        keys = Dictionary.keys()\n",
        "        if x in keys:\n",
        "            Dictionary[x] += 1\n",
        "        else:\n",
        "            Dictionary[x] = 1        \n",
        "    return Dictionary    \n",
        "    print(Dictionary)\n",
        "\n",
        "Number_of_characters('this is Ava')"
      ],
      "metadata": {
        "colab": {
          "base_uri": "https://localhost:8080/"
        },
        "id": "qdoxqM50Y1aW",
        "outputId": "a5b2e8fa-30ab-40a0-c913-2b46ba3f3b89"
      },
      "execution_count": 64,
      "outputs": [
        {
          "output_type": "execute_result",
          "data": {
            "text/plain": [
              "{' ': 2, 'A': 1, 'a': 1, 'h': 1, 'i': 2, 's': 2, 't': 1, 'v': 1}"
            ]
          },
          "metadata": {},
          "execution_count": 64
        }
      ]
    },
    {
      "cell_type": "markdown",
      "metadata": {
        "id": "55W9AMdXCSpV"
      },
      "source": [
        "[link text](https://)(3) Write a Python program to sum all the items in a list. (4 points)"
      ]
    },
    {
      "cell_type": "code",
      "execution_count": 73,
      "metadata": {
        "colab": {
          "base_uri": "https://localhost:8080/"
        },
        "id": "I57NXsauCec2",
        "outputId": "5ac5d585-379e-44f8-c646-7fd356a1bb79"
      },
      "outputs": [
        {
          "output_type": "stream",
          "name": "stdout",
          "text": [
            "[3, 4, 5, 6, 7]\n",
            "Sume of Ava_List is:  25\n"
          ]
        }
      ],
      "source": [
        "# write your answer here\n",
        "def ListSum(items):\n",
        "    SumNumbers = 0\n",
        "    for x in items:\n",
        "        SumNumbers += x\n",
        "    return SumNumbers\n",
        "\n",
        "Ava_List = [3,4,5,6,7]\n",
        "print(Ava_List)\n",
        "print(\"Sume of Ava_List is: \", ListSum(Ava_List))"
      ]
    },
    {
      "cell_type": "markdown",
      "metadata": {
        "id": "4ulBZ6yhCi9F"
      },
      "source": [
        "(4) Write a Python program to get a string from a given string where all occurrences of its first char have been changed to '\\$', except the first char itself. (4 points)\n",
        "\n",
        "Sample String : 'restart‘, \n",
        "\n",
        "Expected Result : 'resta\\$t'"
      ]
    },
    {
      "cell_type": "code",
      "execution_count": 78,
      "metadata": {
        "colab": {
          "base_uri": "https://localhost:8080/"
        },
        "id": "Fj0XhwbBCw2o",
        "outputId": "015af62c-ea44-4511-e5a6-6b9a2f00b628"
      },
      "outputs": [
        {
          "output_type": "stream",
          "name": "stdout",
          "text": [
            "av$\n"
          ]
        }
      ],
      "source": [
        "# write your answer here\n",
        "def question04(Text):\n",
        "    char = Text[0]\n",
        "    Text = Text.replace(char, '$')\n",
        "    Text = char + Text[1:]\n",
        "    return Text\n",
        "\n",
        "print(question04('ava'))"
      ]
    },
    {
      "cell_type": "markdown",
      "metadata": {
        "id": "_bIP7s1MCzue"
      },
      "source": [
        "(5) Write a program with python which could accept two parameter a and b to calculate and output the result of S, where \n",
        "\n",
        "$\\ S=3.14*(1+a/b)^3$ (4 points)\n",
        "\n"
      ]
    },
    {
      "cell_type": "code",
      "execution_count": 85,
      "metadata": {
        "colab": {
          "base_uri": "https://localhost:8080/"
        },
        "id": "w79QilHXD3Mg",
        "outputId": "2c3a67c8-d851-47a7-cf74-cab9a84cf46d"
      },
      "outputs": [
        {
          "output_type": "execute_result",
          "data": {
            "text/plain": [
              "59.54370370370373"
            ]
          },
          "metadata": {},
          "execution_count": 85
        }
      ],
      "source": [
        "# write your answer here\n",
        "def question05(a,b):\n",
        "    S = 3.14*(1+a/b)**3\n",
        "    return S\n",
        "\n",
        "question05(5,3)"
      ]
    },
    {
      "cell_type": "markdown",
      "metadata": {
        "id": "xCa2bK9aD4Q3"
      },
      "source": [
        "(6) Write a Python program to concatenate following dictionaries to create a new one. (4 points)\n",
        "\n",
        "Sample Dictionary : dic1={1:10, 2:20}, dic2={3:30, 4:40}, dic3={5:50,6:60}, \n",
        "\n",
        "Expected Result : {1: 10, 2: 20, 3: 30, 4: 40, 5: 50, 6: 60}\n"
      ]
    },
    {
      "cell_type": "code",
      "execution_count": 90,
      "metadata": {
        "colab": {
          "base_uri": "https://localhost:8080/"
        },
        "id": "_z4aLqAbEET1",
        "outputId": "b9936bb8-d754-45c0-9ee7-3efe5d14fec3"
      },
      "outputs": [
        {
          "output_type": "stream",
          "name": "stdout",
          "text": [
            "{1: 10, 2: 20, 3: 30, 4: 40, 5: 50, 6: 60}\n"
          ]
        }
      ],
      "source": [
        "# write your answer here\n",
        "d1={1:10, 2:20} \n",
        "d2={3:30, 4:40} \n",
        "d3={5:50,6:60}\n",
        "\n",
        "d = {}\n",
        "d = d1.copy()\n",
        "d.update(d2)\n",
        "d.update(d3)\n",
        "print(d)"
      ]
    },
    {
      "cell_type": "markdown",
      "metadata": {
        "id": "0v48Vqa7FrQh"
      },
      "source": [
        "(7) Write a Python program to check whether an element exists within a tuple. (4 points)"
      ]
    },
    {
      "cell_type": "code",
      "execution_count": 106,
      "metadata": {
        "colab": {
          "base_uri": "https://localhost:8080/"
        },
        "id": "7WEmgq-DF2P1",
        "outputId": "1f0d1f69-d765-442b-9143-ee22beabee34"
      },
      "outputs": [
        {
          "output_type": "stream",
          "name": "stdout",
          "text": [
            "Please write down an elementava\n",
            "True\n"
          ]
        }
      ],
      "source": [
        "# write your answer here\n",
        "tupleUNT = (\"ava\", 2022, 3, \"Hajian\", \"UNT\")\n",
        "\n",
        "def question05(x):\n",
        "  print(x in tupleUNT)\n",
        "\n",
        "Input = input(\"Please write down an element\")\n",
        "question05(Input)"
      ]
    },
    {
      "cell_type": "markdown",
      "metadata": {
        "id": "vD5PYLMuGga_"
      },
      "source": [
        "(8) Write a Python program to find maximum and the minimum value in a set. (4 points)"
      ]
    },
    {
      "cell_type": "code",
      "execution_count": 114,
      "metadata": {
        "colab": {
          "base_uri": "https://localhost:8080/"
        },
        "id": "t0D5kdJUGjjw",
        "outputId": "4a8b0ca4-0175-4474-8053-4265dab7464f"
      },
      "outputs": [
        {
          "output_type": "stream",
          "name": "stdout",
          "text": [
            "set: {1, 3, 4, 5, -10}\n",
            "max value: 5\n",
            "min value: -10\n"
          ]
        }
      ],
      "source": [
        "# write your answer here\n",
        "setUNT = {-10, 3, 4, 5, 1, -10}\n",
        "\n",
        "print(\"set:\", setUNT)\n",
        "print(\"max value:\", max(setUNT))\n",
        "print(\"min value:\", min(setUNT))"
      ]
    },
    {
      "cell_type": "markdown",
      "metadata": {
        "id": "uHkd-y5VhVWC"
      },
      "source": [
        "(9) Write a Python program to randomly divide the students in this class into six groups for term projects, each group should have at least 4 students but no more than 6 students (including 6). Here is the students list: (4 points)\n",
        "\n",
        "studnet_list = ['ja0964','sa1198','sb1357','vb0218','sc1229','kg0569','kg0470','sg1297','bg0320','fh0141','jl1252','sk1386',\n",
        "           'ak0956','sk1390','sk1458','sk1313','ak0934','vm0377','nm0618','sm1640','sm1907','gn0108','pr0353','dr0609','ms1500','aos0040','ds0814', 'av0659','nv0234','hy0232']"
      ]
    },
    {
      "cell_type": "code",
      "execution_count": 155,
      "metadata": {
        "colab": {
          "base_uri": "https://localhost:8080/"
        },
        "id": "3iGbmcOBhTwy",
        "outputId": "d4f5fb14-f407-49a4-f4da-9168128f920b"
      },
      "outputs": [
        {
          "output_type": "stream",
          "name": "stdout",
          "text": [
            "The group# 1 includes:\n",
            "sg1297\n",
            "sk1386\n",
            "kg0569\n",
            "fh0141\n",
            "The group# 2 includes:\n",
            "sk1313\n",
            "aos0040\n",
            "bg0320\n",
            "vb0218\n",
            "The group# 3 includes:\n",
            "ak0934\n",
            "sk1390\n",
            "ms1500\n",
            "ak0956\n",
            "The group# 4 includes:\n",
            "nv0234\n",
            "sm1907\n",
            "hy0232\n",
            "sb1357\n",
            "The group# 5 includes:\n",
            "nm0618\n",
            "ja0964\n",
            "ds0814\n",
            "sk1458\n",
            "The group# 6 includes:\n",
            "dr0609\n",
            "sm1640\n",
            "gn0108\n",
            "vm0377\n"
          ]
        }
      ],
      "source": [
        "#write your answer here\n",
        "import random\n",
        "\n",
        "Number_of_groups = 6\n",
        "students = 4\n",
        "\n",
        "studnet_list= ['ja0964','sa1198','sb1357','vb0218','sc1229','kg0569','kg0470','sg1297','bg0320','fh0141','jl1252','sk1386', 'ak0956','sk1390','sk1458','sk1313','ak0934','vm0377','nm0618','sm1640','sm1907','gn0108','pr0353','dr0609','ms1500','aos0040','ds0814', 'av0659','nv0234','hy0232']\n",
        "random.shuffle(studnet_list)\n",
        "for i in range(Number_of_groups):\n",
        "    print('The group# {} includes:'.format(i + 1))\n",
        "    group = studnet_list[i*students:i*students + students]\n",
        "    for participant in group:\n",
        "        print(participant)\n",
        "\n"
      ]
    },
    {
      "cell_type": "markdown",
      "metadata": {
        "id": "KT1R1doprbny"
      },
      "source": [
        "(10) Write a Python program to find the duplicate elements in a given array of integers. Return -1 If there are no such elements. (4 points)"
      ]
    },
    {
      "cell_type": "code",
      "execution_count": 137,
      "metadata": {
        "colab": {
          "base_uri": "https://localhost:8080/"
        },
        "id": "N-ubA1sirbnz",
        "outputId": "086fe169-dc09-47cd-d80c-d06722804eb0"
      },
      "outputs": [
        {
          "output_type": "stream",
          "name": "stdout",
          "text": [
            "-1\n"
          ]
        }
      ],
      "source": [
        "# write your answer here\n",
        "def duplicate_elements(integers):\n",
        "    countt = set()\n",
        "    Zero_duplicate = -1\n",
        "    for x in range(len(integers)):\n",
        "        if integers[x] in countt:\n",
        "            return integers[x]\n",
        "        else:\n",
        "            countt.add(integers[x])\n",
        "    return Zero_duplicate\n",
        "\n",
        "array_of_integers = [3,4,2,8,77]\n",
        "print(duplicate_elements(array_of_integers))"
      ]
    },
    {
      "cell_type": "markdown",
      "metadata": {
        "id": "DQqbp3a0rbnz"
      },
      "source": [
        "(11) Write a Python program to select all the Sundays of a specified year. (4 extra points)"
      ]
    },
    {
      "cell_type": "code",
      "execution_count": 142,
      "metadata": {
        "colab": {
          "base_uri": "https://localhost:8080/"
        },
        "id": "D4fpbu_lrbnz",
        "outputId": "6b931078-ecd5-4769-f5f5-552ff2c71cb2"
      },
      "outputs": [
        {
          "output_type": "stream",
          "name": "stdout",
          "text": [
            "2022-01-02\n",
            "2022-01-09\n",
            "2022-01-16\n",
            "2022-01-23\n",
            "2022-01-30\n",
            "2022-02-06\n",
            "2022-02-13\n",
            "2022-02-20\n",
            "2022-02-27\n",
            "2022-03-06\n",
            "2022-03-13\n",
            "2022-03-20\n",
            "2022-03-27\n",
            "2022-04-03\n",
            "2022-04-10\n",
            "2022-04-17\n",
            "2022-04-24\n",
            "2022-05-01\n",
            "2022-05-08\n",
            "2022-05-15\n",
            "2022-05-22\n",
            "2022-05-29\n",
            "2022-06-05\n",
            "2022-06-12\n",
            "2022-06-19\n",
            "2022-06-26\n",
            "2022-07-03\n",
            "2022-07-10\n",
            "2022-07-17\n",
            "2022-07-24\n",
            "2022-07-31\n",
            "2022-08-07\n",
            "2022-08-14\n",
            "2022-08-21\n",
            "2022-08-28\n",
            "2022-09-04\n",
            "2022-09-11\n",
            "2022-09-18\n",
            "2022-09-25\n",
            "2022-10-02\n",
            "2022-10-09\n",
            "2022-10-16\n",
            "2022-10-23\n",
            "2022-10-30\n",
            "2022-11-06\n",
            "2022-11-13\n",
            "2022-11-20\n",
            "2022-11-27\n",
            "2022-12-04\n",
            "2022-12-11\n",
            "2022-12-18\n",
            "2022-12-25\n"
          ]
        }
      ],
      "source": [
        "# write your answer here\n",
        "from datetime import date, timedelta\n",
        "def Sundays(year):\n",
        "       dt = date(year, 1, 1)\n",
        "       dt += timedelta(days = 6 - dt.weekday())  \n",
        "       while dt.year == year:\n",
        "          yield dt\n",
        "          dt += timedelta(days = 7)\n",
        "          \n",
        "for sundays in Sundays(2022):\n",
        "   print(sundays)   "
      ]
    }
  ],
  "metadata": {
    "colab": {
      "collapsed_sections": [],
      "name": "In_class_exercise_01-1.ipynb",
      "provenance": []
    },
    "kernelspec": {
      "display_name": "Python 3",
      "language": "python",
      "name": "python3"
    },
    "language_info": {
      "codemirror_mode": {
        "name": "ipython",
        "version": 3
      },
      "file_extension": ".py",
      "mimetype": "text/x-python",
      "name": "python",
      "nbconvert_exporter": "python",
      "pygments_lexer": "ipython3",
      "version": "3.8.5"
    }
  },
  "nbformat": 4,
  "nbformat_minor": 0
}